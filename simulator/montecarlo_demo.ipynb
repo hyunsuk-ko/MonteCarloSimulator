{
 "cells": [
  {
   "cell_type": "code",
   "execution_count": 1,
   "metadata": {},
   "outputs": [],
   "source": [
    "import pandas as pd\n",
    "\n",
    "from montecarlo import Die, Game, Analyzer"
   ]
  },
  {
   "cell_type": "markdown",
   "metadata": {},
   "source": [
    "### Scenario 1: A 2-headed coin\n",
    "\n",
    "- Create a fair coin (with faces H and T) and one unfair coin, in which one of the faces has a weight of 5 and the others 1.\n",
    "- Play a game of 1000 flips of 3 coins with all fair dice.\n",
    "- Play a game of 1000 flips with 2 unfair dice and 1 fair die.\n",
    "- For each game, use an Analyzer object to determine the relative frequency of jackpots – getting either all Hs or all Ts.\n",
    "- Compute relative frequency as the number of jackpots over the total number of rolls.\n",
    "- Show your results, comparing the two relative frequencies, in a simple bar chart."
   ]
  },
  {
   "cell_type": "code",
   "execution_count": 2,
   "metadata": {},
   "outputs": [
    {
     "data": {
      "text/plain": [
       "0.229"
      ]
     },
     "execution_count": 2,
     "metadata": {},
     "output_type": "execute_result"
    }
   ],
   "source": [
    "fair_die = Die(['H','T']) # Fair coin\n",
    "fair_die.roll_die()\n",
    "fair_game = Game([fair_die, fair_die, fair_die])\n",
    "game_num = 1000\n",
    "fair_game.play_game(game_num)\n",
    "\n",
    "analyzer = Analyzer(fair_game)\n",
    "fair_freq = analyzer.jackpot() / game_num\n",
    "fair_freq"
   ]
  },
  {
   "cell_type": "code",
   "execution_count": 3,
   "metadata": {},
   "outputs": [
    {
     "data": {
      "text/plain": [
       "0.344"
      ]
     },
     "execution_count": 3,
     "metadata": {},
     "output_type": "execute_result"
    }
   ],
   "source": [
    "fair_die_2 = Die(['H','T']) # Fair coin\n",
    "fair_die_2.roll_die()\n",
    "\n",
    "unfair_die_3 = Die(['H','T']) \n",
    "unfair_die_3.change_weight('H', 5.0)\n",
    "unfair_die_3.roll_die()\n",
    "\n",
    "unfair_die_4 = Die(['H','T']) \n",
    "unfair_die_4.change_weight('H', 5.0)\n",
    "unfair_die_4.roll_die()\n",
    "\n",
    "unfair_game = Game([fair_die_2, unfair_die_3, unfair_die_4])\n",
    "game_num = 1000\n",
    "unfair_game.play_game(game_num)\n",
    "\n",
    "unfair_analyzer = Analyzer(unfair_game)\n",
    "unfair_freq = unfair_analyzer.jackpot() / game_num\n",
    "unfair_freq"
   ]
  },
  {
   "cell_type": "code",
   "execution_count": 4,
   "metadata": {},
   "outputs": [
    {
     "data": {
      "text/plain": [
       "([<matplotlib.axis.YTick at 0x7f5319152c70>,\n",
       "  <matplotlib.axis.YTick at 0x7f5319152850>,\n",
       "  <matplotlib.axis.YTick at 0x7f531914e6a0>,\n",
       "  <matplotlib.axis.YTick at 0x7f531911c4f0>,\n",
       "  <matplotlib.axis.YTick at 0x7f531911ca00>,\n",
       "  <matplotlib.axis.YTick at 0x7f531911cf10>],\n",
       " [Text(0, 0, ''),\n",
       "  Text(0, 0, ''),\n",
       "  Text(0, 0, ''),\n",
       "  Text(0, 0, ''),\n",
       "  Text(0, 0, ''),\n",
       "  Text(0, 0, '')])"
      ]
     },
     "execution_count": 4,
     "metadata": {},
     "output_type": "execute_result"
    },
    {
     "data": {
      "image/png": "[encoded data removed]",
      "text/plain": [
       "<Figure size 360x216 with 1 Axes>"
      ]
     },
     "metadata": {
      "needs_background": "light"
     },
     "output_type": "display_data"
    }
   ],
   "source": [
    "import matplotlib.pyplot as plt\n",
    "import numpy as np\n",
    "\n",
    "names = ['Fair Die', 'Unfair Die']\n",
    "values = [fair_freq, unfair_freq]\n",
    "\n",
    "plt.figure(figsize=(5,3))\n",
    "\n",
    "plt.bar(names, values)\n",
    "plt.ylabel(\"Jackpot Rate\")\n",
    "plt.xlabel(\"Dices\")\n",
    "plt.yticks([0, 0.2, 0.4, 0.6, 0.8, 1])"
   ]
  },
  {
   "cell_type": "markdown",
   "metadata": {},
   "source": [
    "### Scenario 2: A 6-sided die\n",
    "\n",
    "- Create a fair die and two unfair dice, all of six sides with the faces 1 through 6. One unfair die (Type 1) will weight 6 five times more than the others (i.e. it has weight of 5 and the others a weight of 1 each). The other unfair die (Type 2) will  weight 1 five times more than the others.\n",
    "- Play a game of 10000 rolls with 5 fair dice.\n",
    "- Play a game of 10000 rolls with 2 unfair dice of type 1, 1 unfair die of type 2, and the rest fair dice.\n",
    "- For each game, use an Analyzer object to determine the relative frequency of jackpots and show your results, comparing the two relative frequencies, in a simple bar chart.\n",
    "- Also compute 10 most frequent combinations of faces for each game. Plot each of these as bar charts."
   ]
  },
  {
   "cell_type": "markdown",
   "metadata": {},
   "source": [
    "### Case 1: 5 Fair Dice"
   ]
  },
  {
   "cell_type": "code",
   "execution_count": 5,
   "metadata": {},
   "outputs": [
    {
     "data": {
      "text/plain": [
       "True"
      ]
     },
     "execution_count": 5,
     "metadata": {},
     "output_type": "execute_result"
    }
   ],
   "source": [
    "fair = Die(['1','2','3','4','5','6'])\n",
    "unfair_1 = Die(['1','2','3','4','5','6'])\n",
    "unfair_2 = Die(['1','2','3','4','5','6'])\n",
    "unfair_1.change_weight('6', 5.0)\n",
    "unfair_2.change_weight('1', 5.0)"
   ]
  },
  {
   "cell_type": "code",
   "execution_count": 6,
   "metadata": {},
   "outputs": [
    {
     "data": {
      "text/plain": [
       "0.0006"
      ]
     },
     "execution_count": 6,
     "metadata": {},
     "output_type": "execute_result"
    }
   ],
   "source": [
    "fair.roll_die()\n",
    "game_1 = Game([fair, fair, fair, fair, fair])\n",
    "game_num = 10000\n",
    "game_1.play_game(game_num)\n",
    "\n",
    "analyzer_1 = Analyzer(game_1)\n",
    "freq_1 = analyzer_1.jackpot() / game_num\n",
    "freq_1"
   ]
  },
  {
   "cell_type": "code",
   "execution_count": 7,
   "metadata": {},
   "outputs": [
    {
     "data": {
      "text/html": [
       "<div>\n",
       "<style scoped>\n",
       "    .dataframe tbody tr th:only-of-type {\n",
       "        vertical-align: middle;\n",
       "    }\n",
       "\n",
       "    .dataframe tbody tr th {\n",
       "        vertical-align: top;\n",
       "    }\n",
       "\n",
       "    .dataframe thead th {\n",
       "        text-align: right;\n",
       "    }\n",
       "</style>\n",
       "<table border=\"1\" class=\"dataframe\">\n",
       "  <thead>\n",
       "    <tr style=\"text-align: right;\">\n",
       "      <th></th>\n",
       "      <th>Combination</th>\n",
       "      <th>Occurrence</th>\n",
       "    </tr>\n",
       "  </thead>\n",
       "  <tbody>\n",
       "    <tr>\n",
       "      <th>0</th>\n",
       "      <td>[1, 3, 4, 5, 6]</td>\n",
       "      <td>171.0</td>\n",
       "    </tr>\n",
       "    <tr>\n",
       "      <th>2</th>\n",
       "      <td>[1, 2, 3, 5, 6]</td>\n",
       "      <td>162.0</td>\n",
       "    </tr>\n",
       "    <tr>\n",
       "      <th>1</th>\n",
       "      <td>[1, 2, 3, 4, 6]</td>\n",
       "      <td>162.0</td>\n",
       "    </tr>\n",
       "    <tr>\n",
       "      <th>3</th>\n",
       "      <td>[1, 2, 4, 5, 6]</td>\n",
       "      <td>155.0</td>\n",
       "    </tr>\n",
       "    <tr>\n",
       "      <th>4</th>\n",
       "      <td>[1, 2, 3, 4, 5]</td>\n",
       "      <td>154.0</td>\n",
       "    </tr>\n",
       "    <tr>\n",
       "      <th>5</th>\n",
       "      <td>[2, 3, 4, 5, 6]</td>\n",
       "      <td>152.0</td>\n",
       "    </tr>\n",
       "    <tr>\n",
       "      <th>6</th>\n",
       "      <td>[1, 1, 2, 4, 5]</td>\n",
       "      <td>104.0</td>\n",
       "    </tr>\n",
       "    <tr>\n",
       "      <th>7</th>\n",
       "      <td>[1, 3, 4, 4, 6]</td>\n",
       "      <td>93.0</td>\n",
       "    </tr>\n",
       "    <tr>\n",
       "      <th>8</th>\n",
       "      <td>[2, 3, 3, 5, 6]</td>\n",
       "      <td>91.0</td>\n",
       "    </tr>\n",
       "    <tr>\n",
       "      <th>9</th>\n",
       "      <td>[1, 1, 3, 4, 6]</td>\n",
       "      <td>91.0</td>\n",
       "    </tr>\n",
       "  </tbody>\n",
       "</table>\n",
       "</div>"
      ],
      "text/plain": [
       "       Combination  Occurrence\n",
       "0  [1, 3, 4, 5, 6]       171.0\n",
       "2  [1, 2, 3, 5, 6]       162.0\n",
       "1  [1, 2, 3, 4, 6]       162.0\n",
       "3  [1, 2, 4, 5, 6]       155.0\n",
       "4  [1, 2, 3, 4, 5]       154.0\n",
       "5  [2, 3, 4, 5, 6]       152.0\n",
       "6  [1, 1, 2, 4, 5]       104.0\n",
       "7  [1, 3, 4, 4, 6]        93.0\n",
       "8  [2, 3, 3, 5, 6]        91.0\n",
       "9  [1, 1, 3, 4, 6]        91.0"
      ]
     },
     "execution_count": 7,
     "metadata": {},
     "output_type": "execute_result"
    }
   ],
   "source": [
    "a = analyzer_1.combo()\n",
    "top_combos = a.sort_values('Occurrence', ascending = False)[:10]\n",
    "top_combos"
   ]
  },
  {
   "cell_type": "code",
   "execution_count": 8,
   "metadata": {},
   "outputs": [
    {
     "data": {
      "text/plain": [
       "Text(0, 0.5, 'Occurrence')"
      ]
     },
     "execution_count": 8,
     "metadata": {},
     "output_type": "execute_result"
    },
    {
     "data": {
      "image/png": "[encoded data removed]",
      "text/plain": [
       "<Figure size 432x288 with 1 Axes>"
      ]
     },
     "metadata": {
      "needs_background": "light"
     },
     "output_type": "display_data"
    }
   ],
   "source": [
    "top_combos.plot.bar(x ='Combination', y = 'Occurrence')\n",
    "plt.ylabel('Occurrence')"
   ]
  },
  {
   "cell_type": "markdown",
   "metadata": {},
   "source": [
    "### Case 2: 2 unfair dice of type 1, 1 unfair die of type 2, and the rest fair dice"
   ]
  },
  {
   "cell_type": "code",
   "execution_count": 9,
   "metadata": {},
   "outputs": [
    {
     "data": {
      "text/plain": [
       "0.0007"
      ]
     },
     "execution_count": 9,
     "metadata": {},
     "output_type": "execute_result"
    }
   ],
   "source": [
    "fair.roll_die()\n",
    "unfair_1.roll_die()\n",
    "unfair_2.roll_die()\n",
    "game_2 = Game([fair, fair, unfair_1, unfair_1, unfair_2])\n",
    "game_num = 10000\n",
    "game_2.play_game(game_num)\n",
    "analyzer_2 = Analyzer(game_2)\n",
    "freq_2 = analyzer_2.jackpot() / game_num\n",
    "freq_2"
   ]
  },
  {
   "cell_type": "code",
   "execution_count": 10,
   "metadata": {},
   "outputs": [
    {
     "data": {
      "text/html": [
       "<div>\n",
       "<style scoped>\n",
       "    .dataframe tbody tr th:only-of-type {\n",
       "        vertical-align: middle;\n",
       "    }\n",
       "\n",
       "    .dataframe tbody tr th {\n",
       "        vertical-align: top;\n",
       "    }\n",
       "\n",
       "    .dataframe thead th {\n",
       "        text-align: right;\n",
       "    }\n",
       "</style>\n",
       "<table border=\"1\" class=\"dataframe\">\n",
       "  <thead>\n",
       "    <tr style=\"text-align: right;\">\n",
       "      <th></th>\n",
       "      <th>Combination</th>\n",
       "      <th>Occurrence</th>\n",
       "    </tr>\n",
       "  </thead>\n",
       "  <tbody>\n",
       "    <tr>\n",
       "      <th>0</th>\n",
       "      <td>[1, 2, 3, 6, 6]</td>\n",
       "      <td>210.0</td>\n",
       "    </tr>\n",
       "    <tr>\n",
       "      <th>2</th>\n",
       "      <td>[1, 3, 5, 6, 6]</td>\n",
       "      <td>210.0</td>\n",
       "    </tr>\n",
       "    <tr>\n",
       "      <th>1</th>\n",
       "      <td>[1, 4, 5, 6, 6]</td>\n",
       "      <td>210.0</td>\n",
       "    </tr>\n",
       "    <tr>\n",
       "      <th>3</th>\n",
       "      <td>[1, 2, 5, 6, 6]</td>\n",
       "      <td>196.0</td>\n",
       "    </tr>\n",
       "    <tr>\n",
       "      <th>4</th>\n",
       "      <td>[1, 3, 4, 6, 6]</td>\n",
       "      <td>190.0</td>\n",
       "    </tr>\n",
       "    <tr>\n",
       "      <th>5</th>\n",
       "      <td>[1, 2, 4, 6, 6]</td>\n",
       "      <td>184.0</td>\n",
       "    </tr>\n",
       "    <tr>\n",
       "      <th>6</th>\n",
       "      <td>[1, 2, 4, 5, 6]</td>\n",
       "      <td>178.0</td>\n",
       "    </tr>\n",
       "    <tr>\n",
       "      <th>7</th>\n",
       "      <td>[1, 2, 3, 5, 6]</td>\n",
       "      <td>177.0</td>\n",
       "    </tr>\n",
       "    <tr>\n",
       "      <th>8</th>\n",
       "      <td>[1, 2, 3, 4, 6]</td>\n",
       "      <td>174.0</td>\n",
       "    </tr>\n",
       "    <tr>\n",
       "      <th>9</th>\n",
       "      <td>[1, 3, 4, 5, 6]</td>\n",
       "      <td>172.0</td>\n",
       "    </tr>\n",
       "  </tbody>\n",
       "</table>\n",
       "</div>"
      ],
      "text/plain": [
       "       Combination  Occurrence\n",
       "0  [1, 2, 3, 6, 6]       210.0\n",
       "2  [1, 3, 5, 6, 6]       210.0\n",
       "1  [1, 4, 5, 6, 6]       210.0\n",
       "3  [1, 2, 5, 6, 6]       196.0\n",
       "4  [1, 3, 4, 6, 6]       190.0\n",
       "5  [1, 2, 4, 6, 6]       184.0\n",
       "6  [1, 2, 4, 5, 6]       178.0\n",
       "7  [1, 2, 3, 5, 6]       177.0\n",
       "8  [1, 2, 3, 4, 6]       174.0\n",
       "9  [1, 3, 4, 5, 6]       172.0"
      ]
     },
     "execution_count": 10,
     "metadata": {},
     "output_type": "execute_result"
    }
   ],
   "source": [
    "b = analyzer_2.combo()\n",
    "top_combos = b.sort_values('Occurrence', ascending = False)[:10]\n",
    "top_combos"
   ]
  },
  {
   "cell_type": "code",
   "execution_count": 11,
   "metadata": {},
   "outputs": [
    {
     "data": {
      "text/plain": [
       "Text(0, 0.5, 'Occurrence')"
      ]
     },
     "execution_count": 11,
     "metadata": {},
     "output_type": "execute_result"
    },
    {
     "data": {
      "image/png": "[encoded data removed]",
      "text/plain": [
       "<Figure size 432x288 with 1 Axes>"
      ]
     },
     "metadata": {
      "needs_background": "light"
     },
     "output_type": "display_data"
    }
   ],
   "source": [
    "top_combos.plot.bar(x ='Combination', y = 'Occurrence')\n",
    "plt.ylabel('Occurrence')"
   ]
  },
  {
   "cell_type": "markdown",
   "metadata": {},
   "source": [
    "### Total Jacpot Rate Results for Both Cases"
   ]
  },
  {
   "cell_type": "code",
   "execution_count": 12,
   "metadata": {},
   "outputs": [
    {
     "data": {
      "text/plain": [
       "([<matplotlib.axis.YTick at 0x7f5317b07910>,\n",
       "  <matplotlib.axis.YTick at 0x7f5317b074f0>,\n",
       "  <matplotlib.axis.YTick at 0x7f5317d82ca0>,\n",
       "  <matplotlib.axis.YTick at 0x7f5316ef4c70>],\n",
       " [Text(0, 0, ''), Text(0, 0, ''), Text(0, 0, ''), Text(0, 0, '')])"
      ]
     },
     "execution_count": 12,
     "metadata": {},
     "output_type": "execute_result"
    },
    {
     "data": {
      "image/png": "[encoded data removed]",
      "text/plain": [
       "<Figure size 360x216 with 1 Axes>"
      ]
     },
     "metadata": {
      "needs_background": "light"
     },
     "output_type": "display_data"
    }
   ],
   "source": [
    "import matplotlib.pyplot as plt\n",
    "import numpy as np\n",
    "\n",
    "names = ['Fair Die', 'Unfair Die']\n",
    "values = [freq_1, freq_2]\n",
    "\n",
    "plt.figure(figsize=(5,3))\n",
    "\n",
    "plt.bar(names, values)\n",
    "plt.ylabel(\"Jackpot Rate\")\n",
    "plt.xlabel(\"Dices\")\n",
    "plt.yticks([0.0001, 0.0004, 0.0007, 0.001])"
   ]
  },
  {
   "cell_type": "markdown",
   "metadata": {},
   "source": [
    "### Scendario 3: Letters of the Roman Alphabet \n",
    "\n",
    "- Create a \"die\" of letters from a to z with weights based on their frequency of usage. See Appendix for these weights.\n",
    "- Play a game involving 5 of these dice with 1000 rolls.\n",
    "- How many combos can you that look like actual English words?\n",
    "- NOTE: \"combo\" here should really be permutation, which make sense for words. So just compute these from the result data you get from the Game object.\n",
    "- Based on your eye count, what is the relative frequency of these words versus the rest?\n",
    "- NOTE: You can do a few random sample to compute your estimate.\n",
    "- The weights for the letters are in the Appendix to this document."
   ]
  },
  {
   "cell_type": "code",
   "execution_count": 13,
   "metadata": {},
   "outputs": [
    {
     "data": {
      "text/plain": [
       "{'A': 8.4966,\n",
       " 'B': 2.072,\n",
       " 'C': 4.5388,\n",
       " 'D': 3.3844,\n",
       " 'E': 11.1607,\n",
       " 'F': 1.8121,\n",
       " 'G': 2.4705,\n",
       " 'H': 3.0034,\n",
       " 'I': 7.5448,\n",
       " 'J': 0.1965,\n",
       " 'K': 1.1016,\n",
       " 'L': 5.4893,\n",
       " 'M': 3.0129,\n",
       " 'N': 6.6544,\n",
       " 'O': 7.1635,\n",
       " 'P': 3.1671,\n",
       " 'Q': 0.1962,\n",
       " 'R': 7.5809,\n",
       " 'S': 5.7351,\n",
       " 'T': 6.9509,\n",
       " 'U': 3.6308,\n",
       " 'V': 1.0074,\n",
       " 'W': 1.2899,\n",
       " 'X': 0.2902,\n",
       " 'Y': 1.7779,\n",
       " 'Z': 0.2722}"
      ]
     },
     "execution_count": 13,
     "metadata": {},
     "output_type": "execute_result"
    }
   ],
   "source": [
    "freqs = pd.read_csv('letter-freqs.csv', sep = '\\t')\n",
    "a_row = []\n",
    "for ele in list(freqs.columns):\n",
    "    if len(ele) > 2:\n",
    "        ele = float(ele)\n",
    "    a_row.append(ele)\n",
    "freqs.loc[len(freqs)] = a_row\n",
    "freqs.columns = ['letter', 'ratio']\n",
    "freqs = freqs.sort_values(by=['letter'])\n",
    "freqs.index = np.arange(len(freqs))\n",
    "freqs = freqs.set_index('letter')\n",
    "freq_dict = list(freqs.to_dict().values())[0]\n",
    "freq_dict"
   ]
  },
  {
   "cell_type": "code",
   "execution_count": 14,
   "metadata": {},
   "outputs": [],
   "source": [
    "from string import ascii_lowercase\n",
    "alphabets = [c.upper() for c in ascii_lowercase]"
   ]
  },
  {
   "cell_type": "code",
   "execution_count": 15,
   "metadata": {},
   "outputs": [
    {
     "data": {
      "text/html": [
       "<div>\n",
       "<style scoped>\n",
       "    .dataframe tbody tr th:only-of-type {\n",
       "        vertical-align: middle;\n",
       "    }\n",
       "\n",
       "    .dataframe tbody tr th {\n",
       "        vertical-align: top;\n",
       "    }\n",
       "\n",
       "    .dataframe thead th {\n",
       "        text-align: right;\n",
       "    }\n",
       "</style>\n",
       "<table border=\"1\" class=\"dataframe\">\n",
       "  <thead>\n",
       "    <tr style=\"text-align: right;\">\n",
       "      <th></th>\n",
       "      <th>faces</th>\n",
       "      <th>weights</th>\n",
       "    </tr>\n",
       "  </thead>\n",
       "  <tbody>\n",
       "    <tr>\n",
       "      <th>0</th>\n",
       "      <td>A</td>\n",
       "      <td>8.4966</td>\n",
       "    </tr>\n",
       "    <tr>\n",
       "      <th>1</th>\n",
       "      <td>B</td>\n",
       "      <td>2.0720</td>\n",
       "    </tr>\n",
       "    <tr>\n",
       "      <th>2</th>\n",
       "      <td>C</td>\n",
       "      <td>4.5388</td>\n",
       "    </tr>\n",
       "    <tr>\n",
       "      <th>3</th>\n",
       "      <td>D</td>\n",
       "      <td>3.3844</td>\n",
       "    </tr>\n",
       "    <tr>\n",
       "      <th>4</th>\n",
       "      <td>E</td>\n",
       "      <td>11.1607</td>\n",
       "    </tr>\n",
       "  </tbody>\n",
       "</table>\n",
       "</div>"
      ],
      "text/plain": [
       "  faces  weights\n",
       "0     A   8.4966\n",
       "1     B   2.0720\n",
       "2     C   4.5388\n",
       "3     D   3.3844\n",
       "4     E  11.1607"
      ]
     },
     "execution_count": 15,
     "metadata": {},
     "output_type": "execute_result"
    }
   ],
   "source": [
    "alphabet_die = Die(alphabets)\n",
    "for key in freq_dict:\n",
    "    alphabet_die.change_weight(key, freq_dict[key])\n",
    "alphabet_die.df[:5]"
   ]
  },
  {
   "cell_type": "code",
   "execution_count": 16,
   "metadata": {},
   "outputs": [],
   "source": [
    "alphabet_die.roll_die()\n",
    "fair_game = Game([alphabet_die, alphabet_die, alphabet_die, alphabet_die, alphabet_die])\n",
    "game_num = 1000\n",
    "fair_game.play_game(game_num)\n",
    "\n",
    "analyzer = Analyzer(fair_game)"
   ]
  },
  {
   "cell_type": "code",
   "execution_count": 17,
   "metadata": {},
   "outputs": [
    {
     "data": {
      "text/plain": [
       "0"
      ]
     },
     "execution_count": 17,
     "metadata": {},
     "output_type": "execute_result"
    }
   ],
   "source": [
    "analyzer.jackpot()"
   ]
  },
  {
   "cell_type": "code",
   "execution_count": 18,
   "metadata": {},
   "outputs": [
    {
     "data": {
      "text/html": [
       "<div>\n",
       "<style scoped>\n",
       "    .dataframe tbody tr th:only-of-type {\n",
       "        vertical-align: middle;\n",
       "    }\n",
       "\n",
       "    .dataframe tbody tr th {\n",
       "        vertical-align: top;\n",
       "    }\n",
       "\n",
       "    .dataframe thead th {\n",
       "        text-align: right;\n",
       "    }\n",
       "</style>\n",
       "<table border=\"1\" class=\"dataframe\">\n",
       "  <thead>\n",
       "    <tr style=\"text-align: right;\">\n",
       "      <th></th>\n",
       "      <th>Combination</th>\n",
       "      <th>Occurrence</th>\n",
       "    </tr>\n",
       "  </thead>\n",
       "  <tbody>\n",
       "    <tr>\n",
       "      <th>0</th>\n",
       "      <td>[E, E, I, I, R]</td>\n",
       "      <td>3.0</td>\n",
       "    </tr>\n",
       "    <tr>\n",
       "      <th>1</th>\n",
       "      <td>[A, E, H, N, O]</td>\n",
       "      <td>3.0</td>\n",
       "    </tr>\n",
       "    <tr>\n",
       "      <th>2</th>\n",
       "      <td>[E, G, N, O, R]</td>\n",
       "      <td>2.0</td>\n",
       "    </tr>\n",
       "    <tr>\n",
       "      <th>3</th>\n",
       "      <td>[A, E, I, L, R]</td>\n",
       "      <td>2.0</td>\n",
       "    </tr>\n",
       "    <tr>\n",
       "      <th>4</th>\n",
       "      <td>[A, C, L, O, S]</td>\n",
       "      <td>2.0</td>\n",
       "    </tr>\n",
       "    <tr>\n",
       "      <th>...</th>\n",
       "      <td>...</td>\n",
       "      <td>...</td>\n",
       "    </tr>\n",
       "    <tr>\n",
       "      <th>965</th>\n",
       "      <td>[A, D, E, N, T]</td>\n",
       "      <td>1.0</td>\n",
       "    </tr>\n",
       "    <tr>\n",
       "      <th>966</th>\n",
       "      <td>[A, F, I, O, Y]</td>\n",
       "      <td>1.0</td>\n",
       "    </tr>\n",
       "    <tr>\n",
       "      <th>967</th>\n",
       "      <td>[B, L, O, R, T]</td>\n",
       "      <td>1.0</td>\n",
       "    </tr>\n",
       "    <tr>\n",
       "      <th>968</th>\n",
       "      <td>[F, G, N, N, U]</td>\n",
       "      <td>1.0</td>\n",
       "    </tr>\n",
       "    <tr>\n",
       "      <th>969</th>\n",
       "      <td>[E, E, I, R, S]</td>\n",
       "      <td>1.0</td>\n",
       "    </tr>\n",
       "  </tbody>\n",
       "</table>\n",
       "<p>970 rows × 2 columns</p>\n",
       "</div>"
      ],
      "text/plain": [
       "         Combination  Occurrence\n",
       "0    [E, E, I, I, R]         3.0\n",
       "1    [A, E, H, N, O]         3.0\n",
       "2    [E, G, N, O, R]         2.0\n",
       "3    [A, E, I, L, R]         2.0\n",
       "4    [A, C, L, O, S]         2.0\n",
       "..               ...         ...\n",
       "965  [A, D, E, N, T]         1.0\n",
       "966  [A, F, I, O, Y]         1.0\n",
       "967  [B, L, O, R, T]         1.0\n",
       "968  [F, G, N, N, U]         1.0\n",
       "969  [E, E, I, R, S]         1.0\n",
       "\n",
       "[970 rows x 2 columns]"
      ]
     },
     "execution_count": 18,
     "metadata": {},
     "output_type": "execute_result"
    }
   ],
   "source": [
    "alpha_combo = analyzer.combo()\n",
    "alpha_combo"
   ]
  },
  {
   "cell_type": "code",
   "execution_count": 19,
   "metadata": {},
   "outputs": [
    {
     "data": {
      "text/plain": [
       "0     [E, E, I, I, R]\n",
       "1     [A, E, H, N, O]\n",
       "2     [E, G, N, O, R]\n",
       "3     [A, E, I, L, R]\n",
       "4     [A, C, L, O, S]\n",
       "5     [A, L, N, O, R]\n",
       "6     [H, L, O, T, T]\n",
       "7     [D, I, I, N, U]\n",
       "8     [C, L, M, N, T]\n",
       "9     [A, C, G, N, S]\n",
       "10    [L, L, N, O, R]\n",
       "11    [D, E, E, N, R]\n",
       "12    [D, E, I, N, S]\n",
       "13    [I, N, O, T, Y]\n",
       "14    [E, L, O, O, R]\n",
       "15    [C, I, N, R, T]\n",
       "16    [A, E, I, L, T]\n",
       "17    [E, E, I, T, U]\n",
       "18    [A, B, E, I, W]\n",
       "19    [E, E, I, L, O]\n",
       "20    [C, I, N, T, U]\n",
       "21    [E, N, O, O, T]\n",
       "22    [A, A, E, L, N]\n",
       "23    [D, E, O, R, T]\n",
       "24    [E, N, O, R, R]\n",
       "25    [A, E, O, P, T]\n",
       "26    [A, A, E, I, R]\n",
       "27    [E, I, S, T, U]\n",
       "28    [A, D, E, I, R]\n",
       "29    [E, E, H, M, Y]\n",
       "Name: Combination, dtype: object"
      ]
     },
     "execution_count": 19,
     "metadata": {},
     "output_type": "execute_result"
    }
   ],
   "source": [
    "eyeballs = alpha_combo['Combination'][:30]\n",
    "eyeballs"
   ]
  },
  {
   "cell_type": "markdown",
   "metadata": {},
   "source": [
    "### Result\n",
    ": Apparantely, none of the combinations from my 30 samples look like actual words."
   ]
  },
  {
   "cell_type": "code",
   "execution_count": null,
   "metadata": {},
   "outputs": [],
   "source": []
  }
 ],
 "metadata": {
  "kernelspec": {
   "display_name": "Python 3",
   "language": "python",
   "name": "python3"
  },
  "language_info": {
   "codemirror_mode": {
    "name": "ipython",
    "version": 3
   },
   "file_extension": ".py",
   "mimetype": "text/x-python",
   "name": "python",
   "nbconvert_exporter": "python",
   "pygments_lexer": "ipython3",
   "version": "3.8.8"
  }
 },
 "nbformat": 4,
 "nbformat_minor": 4
}
