{
 "cells": [
  {
   "cell_type": "code",
   "execution_count": 1,
   "metadata": {},
   "outputs": [],
   "source": [
    "import pandas as pd\n",
    "\n",
    "from montecarlo import Die, Game, Analyzer"
   ]
  },
  {
   "cell_type": "markdown",
   "metadata": {},
   "source": [
    "### Scenario 1: A 2-headed coin\n",
    "\n",
    "- Create a fair coin (with faces H and T) and one unfair coin, in which one of the faces has a weight of 5 and the others 1.\n",
    "- Play a game of 1000 flips of 3 coins with all fair dice.\n",
    "- Play a game of 1000 flips with 2 unfair dice and 1 fair die.\n",
    "- For each game, use an Analyzer object to determine the relative frequency of jackpots – getting either all Hs or all Ts.\n",
    "- Compute relative frequency as the number of jackpots over the total number of rolls.\n",
    "- Show your results, comparing the two relative frequencies, in a simple bar chart."
   ]
  },
  {
   "cell_type": "code",
   "execution_count": 2,
   "metadata": {},
   "outputs": [
    {
     "data": {
      "text/plain": [
       "0.246"
      ]
     },
     "execution_count": 2,
     "metadata": {},
     "output_type": "execute_result"
    }
   ],
   "source": [
    "fair_die = Die(['H','T']) # Fair coin\n",
    "fair_die.roll_die()\n",
    "fair_game = Game([fair_die, fair_die, fair_die])\n",
    "game_num = 1000\n",
    "fair_game.play_game(game_num)\n",
    "\n",
    "analyzer = Analyzer(fair_game)\n",
    "fair_freq = analyzer.jackpot() / game_num\n",
    "fair_freq"
   ]
  },
  {
   "cell_type": "code",
   "execution_count": 3,
   "metadata": {},
   "outputs": [
    {
     "data": {
      "text/plain": [
       "0.362"
      ]
     },
     "execution_count": 3,
     "metadata": {},
     "output_type": "execute_result"
    }
   ],
   "source": [
    "fair_die_2 = Die(['H','T']) # Fair coin\n",
    "fair_die_2.roll_die()\n",
    "\n",
    "unfair_die_3 = Die(['H','T']) \n",
    "unfair_die_3.change_weight('H', 5.0)\n",
    "unfair_die_3.roll_die()\n",
    "\n",
    "unfair_die_4 = Die(['H','T']) \n",
    "unfair_die_4.change_weight('H', 5.0)\n",
    "unfair_die_4.roll_die()\n",
    "\n",
    "unfair_game = Game([fair_die_2, unfair_die_3, unfair_die_4])\n",
    "game_num = 1000\n",
    "unfair_game.play_game(game_num)\n",
    "\n",
    "unfair_analyzer = Analyzer(unfair_game)\n",
    "unfair_freq = unfair_analyzer.jackpot() / game_num\n",
    "unfair_freq"
   ]
  },
  {
   "cell_type": "code",
   "execution_count": 4,
   "metadata": {},
   "outputs": [
    {
     "data": {
      "text/plain": [
       "([<matplotlib.axis.YTick at 0x7f341402af10>,\n",
       "  <matplotlib.axis.YTick at 0x7f341402aaf0>,\n",
       "  <matplotlib.axis.YTick at 0x7f341401e940>,\n",
       "  <matplotlib.axis.YTick at 0x7f3413855790>,\n",
       "  <matplotlib.axis.YTick at 0x7f3413855ca0>,\n",
       "  <matplotlib.axis.YTick at 0x7f34138681f0>],\n",
       " [Text(0, 0, ''),\n",
       "  Text(0, 0, ''),\n",
       "  Text(0, 0, ''),\n",
       "  Text(0, 0, ''),\n",
       "  Text(0, 0, ''),\n",
       "  Text(0, 0, '')])"
      ]
     },
     "execution_count": 4,
     "metadata": {},
     "output_type": "execute_result"
    },
    {
     "data": {
      "image/png": "[encoded data removed]",
      "text/plain": [
       "<Figure size 360x216 with 1 Axes>"
      ]
     },
     "metadata": {
      "needs_background": "light"
     },
     "output_type": "display_data"
    }
   ],
   "source": [
    "import matplotlib.pyplot as plt\n",
    "import numpy as np\n",
    "\n",
    "names = ['Fair Die', 'Unfair Die']\n",
    "values = [fair_freq, unfair_freq]\n",
    "\n",
    "plt.figure(figsize=(5,3))\n",
    "\n",
    "plt.bar(names, values)\n",
    "plt.ylabel(\"Jackpot Rate\")\n",
    "plt.xlabel(\"Dices\")\n",
    "plt.yticks([0, 0.2, 0.4, 0.6, 0.8, 1])"
   ]
  },
  {
   "cell_type": "markdown",
   "metadata": {},
   "source": [
    "### Scenario 2: A 6-sided die\n",
    "\n",
    "- Create a fair die and two unfair dice, all of six sides with the faces 1 through 6. One unfair die (Type 1) will weight 6 five times more than the others (i.e. it has weight of 5 and the others a weight of 1 each). The other unfair die (Type 2) will  weight 1 five times more than the others.\n",
    "- Play a game of 10000 rolls with 5 fair dice.\n",
    "- Play a game of 10000 rolls with 2 unfair dice of type 1, 1 unfair die of type 2, and the rest fair dice.\n",
    "- For each game, use an Analyzer object to determine the relative frequency of jackpots and show your results, comparing the two relative frequencies, in a simple bar chart.\n",
    "- Also compute 10 most frequent combinations of faces for each game. Plot each of these as bar charts."
   ]
  },
  {
   "cell_type": "markdown",
   "metadata": {},
   "source": [
    "### Case 1: 5 Fair Dice"
   ]
  },
  {
   "cell_type": "code",
   "execution_count": 5,
   "metadata": {},
   "outputs": [
    {
     "data": {
      "text/plain": [
       "True"
      ]
     },
     "execution_count": 5,
     "metadata": {},
     "output_type": "execute_result"
    }
   ],
   "source": [
    "fair = Die(['1','2','3','4','5','6'])\n",
    "unfair_1 = Die(['1','2','3','4','5','6'])\n",
    "unfair_2 = Die(['1','2','3','4','5','6'])\n",
    "unfair_1.change_weight('6', 5.0)\n",
    "unfair_2.change_weight('1', 5.0)"
   ]
  },
  {
   "cell_type": "code",
   "execution_count": 6,
   "metadata": {},
   "outputs": [
    {
     "data": {
      "text/plain": [
       "0.0006"
      ]
     },
     "execution_count": 6,
     "metadata": {},
     "output_type": "execute_result"
    }
   ],
   "source": [
    "fair.roll_die()\n",
    "game_1 = Game([fair, fair, fair, fair, fair])\n",
    "game_num = 10000\n",
    "game_1.play_game(game_num)\n",
    "\n",
    "analyzer_1 = Analyzer(game_1)\n",
    "freq_1 = analyzer_1.jackpot() / game_num\n",
    "freq_1"
   ]
  },
  {
   "cell_type": "code",
   "execution_count": 7,
   "metadata": {},
   "outputs": [
    {
     "data": {
      "text/html": [
       "<div>\n",
       "<style scoped>\n",
       "    .dataframe tbody tr th:only-of-type {\n",
       "        vertical-align: middle;\n",
       "    }\n",
       "\n",
       "    .dataframe tbody tr th {\n",
       "        vertical-align: top;\n",
       "    }\n",
       "\n",
       "    .dataframe thead th {\n",
       "        text-align: right;\n",
       "    }\n",
       "</style>\n",
       "<table border=\"1\" class=\"dataframe\">\n",
       "  <thead>\n",
       "    <tr style=\"text-align: right;\">\n",
       "      <th></th>\n",
       "      <th>Combination</th>\n",
       "      <th>Occurrence</th>\n",
       "    </tr>\n",
       "  </thead>\n",
       "  <tbody>\n",
       "    <tr>\n",
       "      <th>0</th>\n",
       "      <td>[6, 2, 4, 5, 5]</td>\n",
       "      <td>7.0</td>\n",
       "    </tr>\n",
       "    <tr>\n",
       "      <th>2</th>\n",
       "      <td>[2, 2, 6, 2, 3]</td>\n",
       "      <td>7.0</td>\n",
       "    </tr>\n",
       "    <tr>\n",
       "      <th>3</th>\n",
       "      <td>[6, 6, 3, 6, 6]</td>\n",
       "      <td>7.0</td>\n",
       "    </tr>\n",
       "    <tr>\n",
       "      <th>1</th>\n",
       "      <td>[5, 5, 4, 6, 5]</td>\n",
       "      <td>7.0</td>\n",
       "    </tr>\n",
       "    <tr>\n",
       "      <th>12</th>\n",
       "      <td>[3, 4, 3, 4, 2]</td>\n",
       "      <td>6.0</td>\n",
       "    </tr>\n",
       "    <tr>\n",
       "      <th>19</th>\n",
       "      <td>[3, 3, 4, 4, 2]</td>\n",
       "      <td>6.0</td>\n",
       "    </tr>\n",
       "    <tr>\n",
       "      <th>18</th>\n",
       "      <td>[2, 5, 5, 1, 1]</td>\n",
       "      <td>6.0</td>\n",
       "    </tr>\n",
       "    <tr>\n",
       "      <th>17</th>\n",
       "      <td>[4, 4, 6, 4, 6]</td>\n",
       "      <td>6.0</td>\n",
       "    </tr>\n",
       "    <tr>\n",
       "      <th>15</th>\n",
       "      <td>[4, 1, 3, 4, 4]</td>\n",
       "      <td>6.0</td>\n",
       "    </tr>\n",
       "    <tr>\n",
       "      <th>14</th>\n",
       "      <td>[3, 2, 5, 3, 4]</td>\n",
       "      <td>6.0</td>\n",
       "    </tr>\n",
       "  </tbody>\n",
       "</table>\n",
       "</div>"
      ],
      "text/plain": [
       "        Combination  Occurrence\n",
       "0   [6, 2, 4, 5, 5]         7.0\n",
       "2   [2, 2, 6, 2, 3]         7.0\n",
       "3   [6, 6, 3, 6, 6]         7.0\n",
       "1   [5, 5, 4, 6, 5]         7.0\n",
       "12  [3, 4, 3, 4, 2]         6.0\n",
       "19  [3, 3, 4, 4, 2]         6.0\n",
       "18  [2, 5, 5, 1, 1]         6.0\n",
       "17  [4, 4, 6, 4, 6]         6.0\n",
       "15  [4, 1, 3, 4, 4]         6.0\n",
       "14  [3, 2, 5, 3, 4]         6.0"
      ]
     },
     "execution_count": 7,
     "metadata": {},
     "output_type": "execute_result"
    }
   ],
   "source": [
    "a = analyzer_1.combo()\n",
    "top_combos = a.sort_values('Occurrence', ascending = False)[:10]\n",
    "top_combos"
   ]
  },
  {
   "cell_type": "code",
   "execution_count": 8,
   "metadata": {},
   "outputs": [
    {
     "data": {
      "text/plain": [
       "Text(0, 0.5, 'Occurrence')"
      ]
     },
     "execution_count": 8,
     "metadata": {},
     "output_type": "execute_result"
    },
    {
     "data": {
      "image/png": "[encoded data removed]",
      "text/plain": [
       "<Figure size 432x288 with 1 Axes>"
      ]
     },
     "metadata": {
      "needs_background": "light"
     },
     "output_type": "display_data"
    }
   ],
   "source": [
    "top_combos.plot.bar(x ='Combination', y = 'Occurrence')\n",
    "plt.ylabel('Occurrence')"
   ]
  },
  {
   "cell_type": "markdown",
   "metadata": {},
   "source": [
    "### Case 2: 2 unfair dice of type 1, 1 unfair die of type 2, and the rest fair dice"
   ]
  },
  {
   "cell_type": "code",
   "execution_count": 9,
   "metadata": {},
   "outputs": [
    {
     "data": {
      "text/plain": [
       "0.0008"
      ]
     },
     "execution_count": 9,
     "metadata": {},
     "output_type": "execute_result"
    }
   ],
   "source": [
    "fair.roll_die()\n",
    "unfair_1.roll_die()\n",
    "unfair_2.roll_die()\n",
    "game_2 = Game([fair, fair, unfair_1, unfair_1, unfair_2])\n",
    "game_num = 10000\n",
    "game_2.play_game(game_num)\n",
    "analyzer_2 = Analyzer(game_2)\n",
    "freq_2 = analyzer_2.jackpot() / game_num\n",
    "freq_2"
   ]
  },
  {
   "cell_type": "code",
   "execution_count": 10,
   "metadata": {},
   "outputs": [
    {
     "data": {
      "text/html": [
       "<div>\n",
       "<style scoped>\n",
       "    .dataframe tbody tr th:only-of-type {\n",
       "        vertical-align: middle;\n",
       "    }\n",
       "\n",
       "    .dataframe tbody tr th {\n",
       "        vertical-align: top;\n",
       "    }\n",
       "\n",
       "    .dataframe thead th {\n",
       "        text-align: right;\n",
       "    }\n",
       "</style>\n",
       "<table border=\"1\" class=\"dataframe\">\n",
       "  <thead>\n",
       "    <tr style=\"text-align: right;\">\n",
       "      <th></th>\n",
       "      <th>Combination</th>\n",
       "      <th>Occurrence</th>\n",
       "    </tr>\n",
       "  </thead>\n",
       "  <tbody>\n",
       "    <tr>\n",
       "      <th>0</th>\n",
       "      <td>[3, 2, 6, 6, 1]</td>\n",
       "      <td>49.0</td>\n",
       "    </tr>\n",
       "    <tr>\n",
       "      <th>1</th>\n",
       "      <td>[4, 5, 6, 6, 1]</td>\n",
       "      <td>49.0</td>\n",
       "    </tr>\n",
       "    <tr>\n",
       "      <th>2</th>\n",
       "      <td>[6, 4, 6, 6, 1]</td>\n",
       "      <td>44.0</td>\n",
       "    </tr>\n",
       "    <tr>\n",
       "      <th>3</th>\n",
       "      <td>[3, 5, 6, 6, 1]</td>\n",
       "      <td>44.0</td>\n",
       "    </tr>\n",
       "    <tr>\n",
       "      <th>4</th>\n",
       "      <td>[3, 3, 6, 6, 1]</td>\n",
       "      <td>43.0</td>\n",
       "    </tr>\n",
       "    <tr>\n",
       "      <th>5</th>\n",
       "      <td>[6, 1, 6, 6, 1]</td>\n",
       "      <td>41.0</td>\n",
       "    </tr>\n",
       "    <tr>\n",
       "      <th>6</th>\n",
       "      <td>[6, 3, 6, 6, 1]</td>\n",
       "      <td>41.0</td>\n",
       "    </tr>\n",
       "    <tr>\n",
       "      <th>7</th>\n",
       "      <td>[6, 6, 6, 6, 1]</td>\n",
       "      <td>40.0</td>\n",
       "    </tr>\n",
       "    <tr>\n",
       "      <th>8</th>\n",
       "      <td>[3, 4, 6, 6, 1]</td>\n",
       "      <td>40.0</td>\n",
       "    </tr>\n",
       "    <tr>\n",
       "      <th>9</th>\n",
       "      <td>[4, 2, 6, 6, 1]</td>\n",
       "      <td>39.0</td>\n",
       "    </tr>\n",
       "  </tbody>\n",
       "</table>\n",
       "</div>"
      ],
      "text/plain": [
       "       Combination  Occurrence\n",
       "0  [3, 2, 6, 6, 1]        49.0\n",
       "1  [4, 5, 6, 6, 1]        49.0\n",
       "2  [6, 4, 6, 6, 1]        44.0\n",
       "3  [3, 5, 6, 6, 1]        44.0\n",
       "4  [3, 3, 6, 6, 1]        43.0\n",
       "5  [6, 1, 6, 6, 1]        41.0\n",
       "6  [6, 3, 6, 6, 1]        41.0\n",
       "7  [6, 6, 6, 6, 1]        40.0\n",
       "8  [3, 4, 6, 6, 1]        40.0\n",
       "9  [4, 2, 6, 6, 1]        39.0"
      ]
     },
     "execution_count": 10,
     "metadata": {},
     "output_type": "execute_result"
    }
   ],
   "source": [
    "b = analyzer_2.combo()\n",
    "top_combos = b.sort_values('Occurrence', ascending = False)[:10]\n",
    "top_combos"
   ]
  },
  {
   "cell_type": "code",
   "execution_count": 11,
   "metadata": {},
   "outputs": [
    {
     "data": {
      "text/plain": [
       "Text(0, 0.5, 'Occurrence')"
      ]
     },
     "execution_count": 11,
     "metadata": {},
     "output_type": "execute_result"
    },
    {
     "data": {
      "image/png": "[encoded data removed]",
      "text/plain": [
       "<Figure size 432x288 with 1 Axes>"
      ]
     },
     "metadata": {
      "needs_background": "light"
     },
     "output_type": "display_data"
    }
   ],
   "source": [
    "top_combos.plot.bar(x ='Combination', y = 'Occurrence')\n",
    "plt.ylabel('Occurrence')"
   ]
  },
  {
   "cell_type": "markdown",
   "metadata": {},
   "source": [
    "### Total Jacpot Rate Results for Both Cases"
   ]
  },
  {
   "cell_type": "code",
   "execution_count": 12,
   "metadata": {},
   "outputs": [
    {
     "data": {
      "text/plain": [
       "([<matplotlib.axis.YTick at 0x7f3412c308b0>,\n",
       "  <matplotlib.axis.YTick at 0x7f3412c30490>,\n",
       "  <matplotlib.axis.YTick at 0x7f3412eb3be0>,\n",
       "  <matplotlib.axis.YTick at 0x7f341202dc10>],\n",
       " [Text(0, 0, ''), Text(0, 0, ''), Text(0, 0, ''), Text(0, 0, '')])"
      ]
     },
     "execution_count": 12,
     "metadata": {},
     "output_type": "execute_result"
    },
    {
     "data": {
      "image/png": "[encoded data removed]",
      "text/plain": [
       "<Figure size 360x216 with 1 Axes>"
      ]
     },
     "metadata": {
      "needs_background": "light"
     },
     "output_type": "display_data"
    }
   ],
   "source": [
    "import matplotlib.pyplot as plt\n",
    "import numpy as np\n",
    "\n",
    "names = ['Fair Die', 'Unfair Die']\n",
    "values = [freq_1, freq_2]\n",
    "\n",
    "plt.figure(figsize=(5,3))\n",
    "\n",
    "plt.bar(names, values)\n",
    "plt.ylabel(\"Jackpot Rate\")\n",
    "plt.xlabel(\"Dices\")\n",
    "plt.yticks([0.0001, 0.0004, 0.0007, 0.001])"
   ]
  },
  {
   "cell_type": "markdown",
   "metadata": {},
   "source": [
    "### Scendario 3: Letters of the Roman Alphabet \n",
    "\n",
    "- Create a \"die\" of letters from a to z with weights based on their frequency of usage. See Appendix for these weights.\n",
    "- Play a game involving 5 of these dice with 1000 rolls.\n",
    "- How many combos can you that look like actual English words?\n",
    "- NOTE: \"combo\" here should really be permutation, which make sense for words. So just compute these from the result data you get from the Game object.\n",
    "- Based on your eye count, what is the relative frequency of these words versus the rest?\n",
    "- NOTE: You can do a few random sample to compute your estimate.\n",
    "- The weights for the letters are in the Appendix to this document."
   ]
  },
  {
   "cell_type": "code",
   "execution_count": 13,
   "metadata": {},
   "outputs": [
    {
     "data": {
      "text/plain": [
       "{'A': 8.4966,\n",
       " 'B': 2.072,\n",
       " 'C': 4.5388,\n",
       " 'D': 3.3844,\n",
       " 'E': 11.1607,\n",
       " 'F': 1.8121,\n",
       " 'G': 2.4705,\n",
       " 'H': 3.0034,\n",
       " 'I': 7.5448,\n",
       " 'J': 0.1965,\n",
       " 'K': 1.1016,\n",
       " 'L': 5.4893,\n",
       " 'M': 3.0129,\n",
       " 'N': 6.6544,\n",
       " 'O': 7.1635,\n",
       " 'P': 3.1671,\n",
       " 'Q': 0.1962,\n",
       " 'R': 7.5809,\n",
       " 'S': 5.7351,\n",
       " 'T': 6.9509,\n",
       " 'U': 3.6308,\n",
       " 'V': 1.0074,\n",
       " 'W': 1.2899,\n",
       " 'X': 0.2902,\n",
       " 'Y': 1.7779,\n",
       " 'Z': 0.2722}"
      ]
     },
     "execution_count": 13,
     "metadata": {},
     "output_type": "execute_result"
    }
   ],
   "source": [
    "freqs = pd.read_csv('letter-freqs.csv', sep = '\\t')\n",
    "a_row = []\n",
    "for ele in list(freqs.columns):\n",
    "    if len(ele) > 2:\n",
    "        ele = float(ele)\n",
    "    a_row.append(ele)\n",
    "freqs.loc[len(freqs)] = a_row\n",
    "freqs.columns = ['letter', 'ratio']\n",
    "freqs = freqs.sort_values(by=['letter'])\n",
    "freqs.index = np.arange(len(freqs))\n",
    "freqs = freqs.set_index('letter')\n",
    "freq_dict = list(freqs.to_dict().values())[0]\n",
    "freq_dict"
   ]
  },
  {
   "cell_type": "code",
   "execution_count": 14,
   "metadata": {},
   "outputs": [],
   "source": [
    "from string import ascii_lowercase\n",
    "alphabets = [c.upper() for c in ascii_lowercase]"
   ]
  },
  {
   "cell_type": "code",
   "execution_count": 15,
   "metadata": {},
   "outputs": [
    {
     "data": {
      "text/html": [
       "<div>\n",
       "<style scoped>\n",
       "    .dataframe tbody tr th:only-of-type {\n",
       "        vertical-align: middle;\n",
       "    }\n",
       "\n",
       "    .dataframe tbody tr th {\n",
       "        vertical-align: top;\n",
       "    }\n",
       "\n",
       "    .dataframe thead th {\n",
       "        text-align: right;\n",
       "    }\n",
       "</style>\n",
       "<table border=\"1\" class=\"dataframe\">\n",
       "  <thead>\n",
       "    <tr style=\"text-align: right;\">\n",
       "      <th></th>\n",
       "      <th>faces</th>\n",
       "      <th>weights</th>\n",
       "    </tr>\n",
       "  </thead>\n",
       "  <tbody>\n",
       "    <tr>\n",
       "      <th>0</th>\n",
       "      <td>A</td>\n",
       "      <td>8.4966</td>\n",
       "    </tr>\n",
       "    <tr>\n",
       "      <th>1</th>\n",
       "      <td>B</td>\n",
       "      <td>2.0720</td>\n",
       "    </tr>\n",
       "    <tr>\n",
       "      <th>2</th>\n",
       "      <td>C</td>\n",
       "      <td>4.5388</td>\n",
       "    </tr>\n",
       "    <tr>\n",
       "      <th>3</th>\n",
       "      <td>D</td>\n",
       "      <td>3.3844</td>\n",
       "    </tr>\n",
       "    <tr>\n",
       "      <th>4</th>\n",
       "      <td>E</td>\n",
       "      <td>11.1607</td>\n",
       "    </tr>\n",
       "  </tbody>\n",
       "</table>\n",
       "</div>"
      ],
      "text/plain": [
       "  faces  weights\n",
       "0     A   8.4966\n",
       "1     B   2.0720\n",
       "2     C   4.5388\n",
       "3     D   3.3844\n",
       "4     E  11.1607"
      ]
     },
     "execution_count": 15,
     "metadata": {},
     "output_type": "execute_result"
    }
   ],
   "source": [
    "alphabet_die = Die(alphabets)\n",
    "for key in freq_dict:\n",
    "    alphabet_die.change_weight(key, freq_dict[key])\n",
    "alphabet_die.df[:5]"
   ]
  },
  {
   "cell_type": "code",
   "execution_count": 16,
   "metadata": {},
   "outputs": [],
   "source": [
    "alphabet_die.roll_die()\n",
    "fair_game = Game([alphabet_die, alphabet_die, alphabet_die, alphabet_die, alphabet_die])\n",
    "game_num = 1000\n",
    "fair_game.play_game(game_num)\n",
    "\n",
    "analyzer = Analyzer(fair_game)"
   ]
  },
  {
   "cell_type": "code",
   "execution_count": 17,
   "metadata": {},
   "outputs": [
    {
     "data": {
      "text/plain": [
       "0"
      ]
     },
     "execution_count": 17,
     "metadata": {},
     "output_type": "execute_result"
    }
   ],
   "source": [
    "analyzer.jackpot()"
   ]
  },
  {
   "cell_type": "code",
   "execution_count": 18,
   "metadata": {},
   "outputs": [
    {
     "data": {
      "text/html": [
       "<div>\n",
       "<style scoped>\n",
       "    .dataframe tbody tr th:only-of-type {\n",
       "        vertical-align: middle;\n",
       "    }\n",
       "\n",
       "    .dataframe tbody tr th {\n",
       "        vertical-align: top;\n",
       "    }\n",
       "\n",
       "    .dataframe thead th {\n",
       "        text-align: right;\n",
       "    }\n",
       "</style>\n",
       "<table border=\"1\" class=\"dataframe\">\n",
       "  <thead>\n",
       "    <tr style=\"text-align: right;\">\n",
       "      <th></th>\n",
       "      <th>Combination</th>\n",
       "      <th>Occurrence</th>\n",
       "    </tr>\n",
       "  </thead>\n",
       "  <tbody>\n",
       "    <tr>\n",
       "      <th>0</th>\n",
       "      <td>[G, N, X, S, S]</td>\n",
       "      <td>1.0</td>\n",
       "    </tr>\n",
       "    <tr>\n",
       "      <th>1</th>\n",
       "      <td>[N, M, I, S, A]</td>\n",
       "      <td>1.0</td>\n",
       "    </tr>\n",
       "    <tr>\n",
       "      <th>2</th>\n",
       "      <td>[Y, E, O, N, T]</td>\n",
       "      <td>1.0</td>\n",
       "    </tr>\n",
       "    <tr>\n",
       "      <th>3</th>\n",
       "      <td>[I, E, E, A, T]</td>\n",
       "      <td>1.0</td>\n",
       "    </tr>\n",
       "    <tr>\n",
       "      <th>4</th>\n",
       "      <td>[S, G, B, R, T]</td>\n",
       "      <td>1.0</td>\n",
       "    </tr>\n",
       "    <tr>\n",
       "      <th>...</th>\n",
       "      <td>...</td>\n",
       "      <td>...</td>\n",
       "    </tr>\n",
       "    <tr>\n",
       "      <th>995</th>\n",
       "      <td>[C, D, N, O, Y]</td>\n",
       "      <td>1.0</td>\n",
       "    </tr>\n",
       "    <tr>\n",
       "      <th>996</th>\n",
       "      <td>[M, C, E, A, M]</td>\n",
       "      <td>1.0</td>\n",
       "    </tr>\n",
       "    <tr>\n",
       "      <th>997</th>\n",
       "      <td>[R, U, N, E, I]</td>\n",
       "      <td>1.0</td>\n",
       "    </tr>\n",
       "    <tr>\n",
       "      <th>998</th>\n",
       "      <td>[I, S, T, O, T]</td>\n",
       "      <td>1.0</td>\n",
       "    </tr>\n",
       "    <tr>\n",
       "      <th>999</th>\n",
       "      <td>[L, R, A, T, T]</td>\n",
       "      <td>1.0</td>\n",
       "    </tr>\n",
       "  </tbody>\n",
       "</table>\n",
       "<p>1000 rows × 2 columns</p>\n",
       "</div>"
      ],
      "text/plain": [
       "         Combination  Occurrence\n",
       "0    [G, N, X, S, S]         1.0\n",
       "1    [N, M, I, S, A]         1.0\n",
       "2    [Y, E, O, N, T]         1.0\n",
       "3    [I, E, E, A, T]         1.0\n",
       "4    [S, G, B, R, T]         1.0\n",
       "..               ...         ...\n",
       "995  [C, D, N, O, Y]         1.0\n",
       "996  [M, C, E, A, M]         1.0\n",
       "997  [R, U, N, E, I]         1.0\n",
       "998  [I, S, T, O, T]         1.0\n",
       "999  [L, R, A, T, T]         1.0\n",
       "\n",
       "[1000 rows x 2 columns]"
      ]
     },
     "execution_count": 18,
     "metadata": {},
     "output_type": "execute_result"
    }
   ],
   "source": [
    "alpha_combo = analyzer.combo()\n",
    "alpha_combo"
   ]
  },
  {
   "cell_type": "code",
   "execution_count": 19,
   "metadata": {},
   "outputs": [
    {
     "data": {
      "text/plain": [
       "0     [G, N, X, S, S]\n",
       "1     [N, M, I, S, A]\n",
       "2     [Y, E, O, N, T]\n",
       "3     [I, E, E, A, T]\n",
       "4     [S, G, B, R, T]\n",
       "5     [A, A, N, O, A]\n",
       "6     [U, U, L, U, H]\n",
       "7     [T, F, C, E, S]\n",
       "8     [D, T, O, T, S]\n",
       "9     [V, I, W, A, I]\n",
       "10    [O, O, T, B, U]\n",
       "11    [N, F, S, A, G]\n",
       "12    [E, A, E, N, O]\n",
       "13    [R, O, S, A, R]\n",
       "14    [A, C, N, O, E]\n",
       "15    [K, E, E, S, R]\n",
       "16    [I, C, I, I, S]\n",
       "17    [I, R, P, I, E]\n",
       "18    [E, D, O, C, I]\n",
       "19    [B, P, L, Z, W]\n",
       "20    [N, M, I, L, N]\n",
       "21    [D, I, P, E, C]\n",
       "22    [N, T, H, R, G]\n",
       "23    [S, S, T, T, W]\n",
       "24    [R, A, A, G, U]\n",
       "25    [P, Z, I, E, I]\n",
       "26    [T, C, T, U, N]\n",
       "27    [S, L, W, R, R]\n",
       "28    [O, O, A, N, A]\n",
       "29    [N, T, E, L, D]\n",
       "Name: Combination, dtype: object"
      ]
     },
     "execution_count": 19,
     "metadata": {},
     "output_type": "execute_result"
    }
   ],
   "source": [
    "eyeballs = alpha_combo['Combination'][:30]\n",
    "eyeballs"
   ]
  },
  {
   "cell_type": "markdown",
   "metadata": {},
   "source": [
    "### Result\n",
    ": Apparantely, none of the combinations from my 30 samples look like actual words."
   ]
  },
  {
   "cell_type": "code",
   "execution_count": null,
   "metadata": {},
   "outputs": [],
   "source": []
  }
 ],
 "metadata": {
  "kernelspec": {
   "display_name": "Python 3",
   "language": "python",
   "name": "python3"
  },
  "language_info": {
   "codemirror_mode": {
    "name": "ipython",
    "version": 3
   },
   "file_extension": ".py",
   "mimetype": "text/x-python",
   "name": "python",
   "nbconvert_exporter": "python",
   "pygments_lexer": "ipython3",
   "version": "3.8.8"
  }
 },
 "nbformat": 4,
 "nbformat_minor": 4
}
