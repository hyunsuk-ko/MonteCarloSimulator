{
 "cells": [
  {
   "cell_type": "markdown",
   "metadata": {},
   "source": [
    "# Metadata\n",
    "\n",
    "- Title: Final Project Report\n",
    "- Class: DS 5100\n",
    "- Date: July.15.2022\n",
    "- Student Name: Hyunsuk Ko\n",
    "- Student Net ID: npm5ct\n",
    "- This URL: \n",
    "- GitHub Repo URL:\n",
    "\n",
    "\n",
    "# The Monte Carlo Module"
   ]
  },
  {
   "cell_type": "code",
   "execution_count": 2,
   "metadata": {},
   "outputs": [],
   "source": [
    "import pandas as pd\n",
    "import numpy as np\n",
    "from montecarlo import Die, Game, Analyzer"
   ]
  },
  {
   "cell_type": "code",
   "execution_count": 3,
   "metadata": {},
   "outputs": [
    {
     "data": {
      "text/plain": [
       "array(['b'], dtype='<U1')"
      ]
     },
     "execution_count": 3,
     "metadata": {},
     "output_type": "execute_result"
    }
   ],
   "source": [
    "# A code block with your classes.\n",
    "sample_die = Die(['a','b','c'])\n",
    "sample_die.change_weight('a', 2.0)\n",
    "sample_die.roll_die()\n",
    "\n",
    "sample_die_2 = Die(['a','b','c'])\n",
    "sample_die_2.change_weight('c', 5.0)\n",
    "sample_die_2.roll_die()\n",
    "\n",
    "sample_die_3 = Die(['a','b','c'])\n",
    "sample_die_3.change_weight('b', 15.0)\n",
    "sample_die_3.roll_die()"
   ]
  },
  {
   "cell_type": "markdown",
   "metadata": {},
   "source": [
    "# Test Module"
   ]
  },
  {
   "cell_type": "code",
   "execution_count": 4,
   "metadata": {},
   "outputs": [],
   "source": [
    "game = Game([sample_die, sample_die_2, sample_die_3])\n",
    "game.play_game(5)"
   ]
  },
  {
   "cell_type": "markdown",
   "metadata": {},
   "source": [
    "# Test Results"
   ]
  },
  {
   "cell_type": "code",
   "execution_count": 6,
   "metadata": {},
   "outputs": [
    {
     "data": {
      "text/plain": [
       "0"
      ]
     },
     "execution_count": 6,
     "metadata": {},
     "output_type": "execute_result"
    }
   ],
   "source": [
    "analyzer = Analyzer(game)\n",
    "analyzer.jackpot()"
   ]
  },
  {
   "cell_type": "code",
   "execution_count": 7,
   "metadata": {},
   "outputs": [
    {
     "data": {
      "text/html": [
       "<div>\n",
       "<style scoped>\n",
       "    .dataframe tbody tr th:only-of-type {\n",
       "        vertical-align: middle;\n",
       "    }\n",
       "\n",
       "    .dataframe tbody tr th {\n",
       "        vertical-align: top;\n",
       "    }\n",
       "\n",
       "    .dataframe thead th {\n",
       "        text-align: right;\n",
       "    }\n",
       "</style>\n",
       "<table border=\"1\" class=\"dataframe\">\n",
       "  <thead>\n",
       "    <tr style=\"text-align: right;\">\n",
       "      <th></th>\n",
       "      <th>Combination</th>\n",
       "      <th>Occurrence</th>\n",
       "    </tr>\n",
       "  </thead>\n",
       "  <tbody>\n",
       "    <tr>\n",
       "      <th>0</th>\n",
       "      <td>[a, c, b]</td>\n",
       "      <td>3.0</td>\n",
       "    </tr>\n",
       "    <tr>\n",
       "      <th>1</th>\n",
       "      <td>[c, c, b]</td>\n",
       "      <td>1.0</td>\n",
       "    </tr>\n",
       "    <tr>\n",
       "      <th>2</th>\n",
       "      <td>[a, c, c]</td>\n",
       "      <td>1.0</td>\n",
       "    </tr>\n",
       "  </tbody>\n",
       "</table>\n",
       "</div>"
      ],
      "text/plain": [
       "  Combination  Occurrence\n",
       "0   [a, c, b]         3.0\n",
       "1   [c, c, b]         1.0\n",
       "2   [a, c, c]         1.0"
      ]
     },
     "execution_count": 7,
     "metadata": {},
     "output_type": "execute_result"
    }
   ],
   "source": [
    "analyzer.combo()"
   ]
  },
  {
   "cell_type": "code",
   "execution_count": 8,
   "metadata": {},
   "outputs": [
    {
     "data": {
      "text/html": [
       "<div>\n",
       "<style scoped>\n",
       "    .dataframe tbody tr th:only-of-type {\n",
       "        vertical-align: middle;\n",
       "    }\n",
       "\n",
       "    .dataframe tbody tr th {\n",
       "        vertical-align: top;\n",
       "    }\n",
       "\n",
       "    .dataframe thead th {\n",
       "        text-align: right;\n",
       "    }\n",
       "</style>\n",
       "<table border=\"1\" class=\"dataframe\">\n",
       "  <thead>\n",
       "    <tr style=\"text-align: right;\">\n",
       "      <th></th>\n",
       "      <th>a</th>\n",
       "      <th>b</th>\n",
       "      <th>c</th>\n",
       "    </tr>\n",
       "    <tr>\n",
       "      <th>roll_number</th>\n",
       "      <th></th>\n",
       "      <th></th>\n",
       "      <th></th>\n",
       "    </tr>\n",
       "  </thead>\n",
       "  <tbody>\n",
       "    <tr>\n",
       "      <th>0</th>\n",
       "      <td>0</td>\n",
       "      <td>1</td>\n",
       "      <td>2</td>\n",
       "    </tr>\n",
       "    <tr>\n",
       "      <th>1</th>\n",
       "      <td>1</td>\n",
       "      <td>1</td>\n",
       "      <td>1</td>\n",
       "    </tr>\n",
       "    <tr>\n",
       "      <th>2</th>\n",
       "      <td>1</td>\n",
       "      <td>1</td>\n",
       "      <td>1</td>\n",
       "    </tr>\n",
       "    <tr>\n",
       "      <th>3</th>\n",
       "      <td>1</td>\n",
       "      <td>0</td>\n",
       "      <td>2</td>\n",
       "    </tr>\n",
       "    <tr>\n",
       "      <th>4</th>\n",
       "      <td>1</td>\n",
       "      <td>1</td>\n",
       "      <td>1</td>\n",
       "    </tr>\n",
       "  </tbody>\n",
       "</table>\n",
       "</div>"
      ],
      "text/plain": [
       "             a  b  c\n",
       "roll_number         \n",
       "0            0  1  2\n",
       "1            1  1  1\n",
       "2            1  1  1\n",
       "3            1  0  2\n",
       "4            1  1  1"
      ]
     },
     "execution_count": 8,
     "metadata": {},
     "output_type": "execute_result"
    }
   ],
   "source": [
    "analyzer.face_count()"
   ]
  },
  {
   "cell_type": "markdown",
   "metadata": {},
   "source": [
    "# Scenarios\n",
    "Code blocks with your scenarios and their outputs.\n",
    "These should have appropriate import statements even though the code is now in the same notebook as the classes it calls."
   ]
  },
  {
   "cell_type": "markdown",
   "metadata": {},
   "source": [
    "### Scenario 1: A 2-headed coin\n",
    "\n",
    "- Create a fair coin (with faces H and T) and one unfair coin, in which one of the faces has a weight of 5 and the others 1.\n",
    "- Play a game of 1000 flips of 3 coins with all fair dice.\n",
    "- Play a game of 1000 flips with 2 unfair dice and 1 fair die.\n",
    "- For each game, use an Analyzer object to determine the relative frequency of jackpots – getting either all Hs or all Ts.\n",
    "- Compute relative frequency as the number of jackpots over the total number of rolls.\n",
    "- Show your results, comparing the two relative frequencies, in a simple bar chart."
   ]
  },
  {
   "cell_type": "code",
   "execution_count": 9,
   "metadata": {},
   "outputs": [
    {
     "data": {
      "text/plain": [
       "0.229"
      ]
     },
     "execution_count": 9,
     "metadata": {},
     "output_type": "execute_result"
    }
   ],
   "source": [
    "fair_die = Die(['H','T']) # Fair coin\n",
    "fair_die.roll_die()\n",
    "fair_game = Game([fair_die, fair_die, fair_die])\n",
    "game_num = 1000\n",
    "fair_game.play_game(game_num)\n",
    "\n",
    "analyzer = Analyzer(fair_game)\n",
    "fair_freq = analyzer.jackpot() / game_num\n",
    "fair_freq"
   ]
  },
  {
   "cell_type": "code",
   "execution_count": 10,
   "metadata": {},
   "outputs": [
    {
     "data": {
      "text/plain": [
       "0.353"
      ]
     },
     "execution_count": 10,
     "metadata": {},
     "output_type": "execute_result"
    }
   ],
   "source": [
    "fair_die_2 = Die(['H','T']) # Fair coin\n",
    "fair_die_2.roll_die()\n",
    "\n",
    "unfair_die_3 = Die(['H','T']) \n",
    "unfair_die_3.change_weight('H', 5.0)\n",
    "unfair_die_3.roll_die()\n",
    "\n",
    "unfair_die_4 = Die(['H','T']) \n",
    "unfair_die_4.change_weight('H', 5.0)\n",
    "unfair_die_4.roll_die()\n",
    "\n",
    "unfair_game = Game([fair_die_2, unfair_die_3, unfair_die_4])\n",
    "game_num = 1000\n",
    "unfair_game.play_game(game_num)\n",
    "\n",
    "unfair_analyzer = Analyzer(unfair_game)\n",
    "unfair_freq = unfair_analyzer.jackpot() / game_num\n",
    "unfair_freq"
   ]
  },
  {
   "cell_type": "code",
   "execution_count": 11,
   "metadata": {},
   "outputs": [
    {
     "data": {
      "text/plain": [
       "([<matplotlib.axis.YTick at 0x7f74a3901730>,\n",
       "  <matplotlib.axis.YTick at 0x7f74a3901310>,\n",
       "  <matplotlib.axis.YTick at 0x7f74a38f5160>,\n",
       "  <matplotlib.axis.YTick at 0x7f74a38a8f70>,\n",
       "  <matplotlib.axis.YTick at 0x7f74a38c94c0>,\n",
       "  <matplotlib.axis.YTick at 0x7f74a38c99d0>],\n",
       " [Text(0, 0, ''),\n",
       "  Text(0, 0, ''),\n",
       "  Text(0, 0, ''),\n",
       "  Text(0, 0, ''),\n",
       "  Text(0, 0, ''),\n",
       "  Text(0, 0, '')])"
      ]
     },
     "execution_count": 11,
     "metadata": {},
     "output_type": "execute_result"
    },
    {
     "data": {
      "image/png": "[encoded data removed]",
      "text/plain": [
       "<Figure size 360x216 with 1 Axes>"
      ]
     },
     "metadata": {
      "needs_background": "light"
     },
     "output_type": "display_data"
    }
   ],
   "source": [
    "import matplotlib.pyplot as plt\n",
    "import numpy as np\n",
    "\n",
    "names = ['Fair Die', 'Unfair Die']\n",
    "values = [fair_freq, unfair_freq]\n",
    "\n",
    "plt.figure(figsize=(5,3))\n",
    "\n",
    "plt.bar(names, values)\n",
    "plt.ylabel(\"Jackpot Rate\")\n",
    "plt.xlabel(\"Dices\")\n",
    "plt.yticks([0, 0.2, 0.4, 0.6, 0.8, 1])"
   ]
  },
  {
   "cell_type": "markdown",
   "metadata": {},
   "source": [
    "### Scenario 2: A 6-sided die\n",
    "\n",
    "- Create a fair die and two unfair dice, all of six sides with the faces 1 through 6. One unfair die (Type 1) will weight 6 five times more than the others (i.e. it has weight of 5 and the others a weight of 1 each). The other unfair die (Type 2) will  weight 1 five times more than the others.\n",
    "- Play a game of 10000 rolls with 5 fair dice.\n",
    "- Play a game of 10000 rolls with 2 unfair dice of type 1, 1 unfair die of type 2, and the rest fair dice.\n",
    "- For each game, use an Analyzer object to determine the relative frequency of jackpots and show your results, comparing the two relative frequencies, in a simple bar chart.\n",
    "- Also compute 10 most frequent combinations of faces for each game. Plot each of these as bar charts."
   ]
  },
  {
   "cell_type": "markdown",
   "metadata": {},
   "source": [
    "### Case 1: 5 Fair Dice"
   ]
  },
  {
   "cell_type": "code",
   "execution_count": 12,
   "metadata": {},
   "outputs": [
    {
     "data": {
      "text/plain": [
       "True"
      ]
     },
     "execution_count": 12,
     "metadata": {},
     "output_type": "execute_result"
    }
   ],
   "source": [
    "fair = Die(['1','2','3','4','5','6'])\n",
    "unfair_1 = Die(['1','2','3','4','5','6'])\n",
    "unfair_2 = Die(['1','2','3','4','5','6'])\n",
    "unfair_1.change_weight('6', 5.0)\n",
    "unfair_2.change_weight('1', 5.0)"
   ]
  },
  {
   "cell_type": "code",
   "execution_count": 13,
   "metadata": {},
   "outputs": [
    {
     "data": {
      "text/plain": [
       "0.0007"
      ]
     },
     "execution_count": 13,
     "metadata": {},
     "output_type": "execute_result"
    }
   ],
   "source": [
    "fair.roll_die()\n",
    "game_1 = Game([fair, fair, fair, fair, fair])\n",
    "game_num = 10000\n",
    "game_1.play_game(game_num)\n",
    "\n",
    "analyzer_1 = Analyzer(game_1)\n",
    "freq_1 = analyzer_1.jackpot() / game_num\n",
    "freq_1"
   ]
  },
  {
   "cell_type": "code",
   "execution_count": 14,
   "metadata": {},
   "outputs": [
    {
     "data": {
      "text/html": [
       "<div>\n",
       "<style scoped>\n",
       "    .dataframe tbody tr th:only-of-type {\n",
       "        vertical-align: middle;\n",
       "    }\n",
       "\n",
       "    .dataframe tbody tr th {\n",
       "        vertical-align: top;\n",
       "    }\n",
       "\n",
       "    .dataframe thead th {\n",
       "        text-align: right;\n",
       "    }\n",
       "</style>\n",
       "<table border=\"1\" class=\"dataframe\">\n",
       "  <thead>\n",
       "    <tr style=\"text-align: right;\">\n",
       "      <th></th>\n",
       "      <th>Combination</th>\n",
       "      <th>Occurrence</th>\n",
       "    </tr>\n",
       "  </thead>\n",
       "  <tbody>\n",
       "    <tr>\n",
       "      <th>0</th>\n",
       "      <td>[3, 3, 3, 5, 2]</td>\n",
       "      <td>7.0</td>\n",
       "    </tr>\n",
       "    <tr>\n",
       "      <th>1</th>\n",
       "      <td>[2, 6, 1, 2, 3]</td>\n",
       "      <td>7.0</td>\n",
       "    </tr>\n",
       "    <tr>\n",
       "      <th>7</th>\n",
       "      <td>[3, 3, 5, 1, 2]</td>\n",
       "      <td>6.0</td>\n",
       "    </tr>\n",
       "    <tr>\n",
       "      <th>12</th>\n",
       "      <td>[4, 1, 6, 1, 1]</td>\n",
       "      <td>6.0</td>\n",
       "    </tr>\n",
       "    <tr>\n",
       "      <th>11</th>\n",
       "      <td>[1, 1, 4, 5, 3]</td>\n",
       "      <td>6.0</td>\n",
       "    </tr>\n",
       "    <tr>\n",
       "      <th>9</th>\n",
       "      <td>[2, 6, 3, 5, 3]</td>\n",
       "      <td>6.0</td>\n",
       "    </tr>\n",
       "    <tr>\n",
       "      <th>8</th>\n",
       "      <td>[4, 4, 3, 4, 4]</td>\n",
       "      <td>6.0</td>\n",
       "    </tr>\n",
       "    <tr>\n",
       "      <th>10</th>\n",
       "      <td>[2, 2, 4, 2, 1]</td>\n",
       "      <td>6.0</td>\n",
       "    </tr>\n",
       "    <tr>\n",
       "      <th>6</th>\n",
       "      <td>[2, 1, 3, 6, 3]</td>\n",
       "      <td>6.0</td>\n",
       "    </tr>\n",
       "    <tr>\n",
       "      <th>5</th>\n",
       "      <td>[5, 2, 6, 3, 5]</td>\n",
       "      <td>6.0</td>\n",
       "    </tr>\n",
       "  </tbody>\n",
       "</table>\n",
       "</div>"
      ],
      "text/plain": [
       "        Combination  Occurrence\n",
       "0   [3, 3, 3, 5, 2]         7.0\n",
       "1   [2, 6, 1, 2, 3]         7.0\n",
       "7   [3, 3, 5, 1, 2]         6.0\n",
       "12  [4, 1, 6, 1, 1]         6.0\n",
       "11  [1, 1, 4, 5, 3]         6.0\n",
       "9   [2, 6, 3, 5, 3]         6.0\n",
       "8   [4, 4, 3, 4, 4]         6.0\n",
       "10  [2, 2, 4, 2, 1]         6.0\n",
       "6   [2, 1, 3, 6, 3]         6.0\n",
       "5   [5, 2, 6, 3, 5]         6.0"
      ]
     },
     "execution_count": 14,
     "metadata": {},
     "output_type": "execute_result"
    }
   ],
   "source": [
    "a = analyzer_1.combo()\n",
    "top_combos = a.sort_values('Occurrence', ascending = False)[:10]\n",
    "top_combos"
   ]
  },
  {
   "cell_type": "code",
   "execution_count": 15,
   "metadata": {},
   "outputs": [
    {
     "data": {
      "text/plain": [
       "Text(0, 0.5, 'Occurrence')"
      ]
     },
     "execution_count": 15,
     "metadata": {},
     "output_type": "execute_result"
    },
    {
     "data": {
      "image/png": "[encoded data removed]",
      "text/plain": [
       "<Figure size 432x288 with 1 Axes>"
      ]
     },
     "metadata": {
      "needs_background": "light"
     },
     "output_type": "display_data"
    }
   ],
   "source": [
    "top_combos.plot.bar(x ='Combination', y = 'Occurrence')\n",
    "plt.ylabel('Occurrence')"
   ]
  },
  {
   "cell_type": "markdown",
   "metadata": {},
   "source": [
    "### Case 2: 2 unfair dice of type 1, 1 unfair die of type 2, and the rest fair dice"
   ]
  },
  {
   "cell_type": "code",
   "execution_count": 16,
   "metadata": {},
   "outputs": [
    {
     "data": {
      "text/plain": [
       "0.0004"
      ]
     },
     "execution_count": 16,
     "metadata": {},
     "output_type": "execute_result"
    }
   ],
   "source": [
    "fair.roll_die()\n",
    "unfair_1.roll_die()\n",
    "unfair_2.roll_die()\n",
    "game_2 = Game([fair, fair, unfair_1, unfair_1, unfair_2])\n",
    "game_num = 10000\n",
    "game_2.play_game(game_num)\n",
    "analyzer_2 = Analyzer(game_2)\n",
    "freq_2 = analyzer_2.jackpot() / game_num\n",
    "freq_2"
   ]
  },
  {
   "cell_type": "code",
   "execution_count": 17,
   "metadata": {},
   "outputs": [
    {
     "data": {
      "text/html": [
       "<div>\n",
       "<style scoped>\n",
       "    .dataframe tbody tr th:only-of-type {\n",
       "        vertical-align: middle;\n",
       "    }\n",
       "\n",
       "    .dataframe tbody tr th {\n",
       "        vertical-align: top;\n",
       "    }\n",
       "\n",
       "    .dataframe thead th {\n",
       "        text-align: right;\n",
       "    }\n",
       "</style>\n",
       "<table border=\"1\" class=\"dataframe\">\n",
       "  <thead>\n",
       "    <tr style=\"text-align: right;\">\n",
       "      <th></th>\n",
       "      <th>Combination</th>\n",
       "      <th>Occurrence</th>\n",
       "    </tr>\n",
       "  </thead>\n",
       "  <tbody>\n",
       "    <tr>\n",
       "      <th>0</th>\n",
       "      <td>[5, 3, 6, 6, 1]</td>\n",
       "      <td>50.0</td>\n",
       "    </tr>\n",
       "    <tr>\n",
       "      <th>1</th>\n",
       "      <td>[3, 1, 6, 6, 1]</td>\n",
       "      <td>47.0</td>\n",
       "    </tr>\n",
       "    <tr>\n",
       "      <th>2</th>\n",
       "      <td>[1, 5, 6, 6, 1]</td>\n",
       "      <td>45.0</td>\n",
       "    </tr>\n",
       "    <tr>\n",
       "      <th>3</th>\n",
       "      <td>[6, 4, 6, 6, 1]</td>\n",
       "      <td>42.0</td>\n",
       "    </tr>\n",
       "    <tr>\n",
       "      <th>4</th>\n",
       "      <td>[6, 5, 6, 6, 1]</td>\n",
       "      <td>41.0</td>\n",
       "    </tr>\n",
       "    <tr>\n",
       "      <th>5</th>\n",
       "      <td>[1, 1, 6, 6, 1]</td>\n",
       "      <td>41.0</td>\n",
       "    </tr>\n",
       "    <tr>\n",
       "      <th>6</th>\n",
       "      <td>[2, 2, 6, 6, 1]</td>\n",
       "      <td>40.0</td>\n",
       "    </tr>\n",
       "    <tr>\n",
       "      <th>7</th>\n",
       "      <td>[6, 2, 6, 6, 1]</td>\n",
       "      <td>39.0</td>\n",
       "    </tr>\n",
       "    <tr>\n",
       "      <th>8</th>\n",
       "      <td>[6, 3, 6, 6, 1]</td>\n",
       "      <td>39.0</td>\n",
       "    </tr>\n",
       "    <tr>\n",
       "      <th>9</th>\n",
       "      <td>[2, 6, 6, 6, 1]</td>\n",
       "      <td>39.0</td>\n",
       "    </tr>\n",
       "  </tbody>\n",
       "</table>\n",
       "</div>"
      ],
      "text/plain": [
       "       Combination  Occurrence\n",
       "0  [5, 3, 6, 6, 1]        50.0\n",
       "1  [3, 1, 6, 6, 1]        47.0\n",
       "2  [1, 5, 6, 6, 1]        45.0\n",
       "3  [6, 4, 6, 6, 1]        42.0\n",
       "4  [6, 5, 6, 6, 1]        41.0\n",
       "5  [1, 1, 6, 6, 1]        41.0\n",
       "6  [2, 2, 6, 6, 1]        40.0\n",
       "7  [6, 2, 6, 6, 1]        39.0\n",
       "8  [6, 3, 6, 6, 1]        39.0\n",
       "9  [2, 6, 6, 6, 1]        39.0"
      ]
     },
     "execution_count": 17,
     "metadata": {},
     "output_type": "execute_result"
    }
   ],
   "source": [
    "b = analyzer_2.combo()\n",
    "top_combos = b.sort_values('Occurrence', ascending = False)[:10]\n",
    "top_combos"
   ]
  },
  {
   "cell_type": "code",
   "execution_count": 18,
   "metadata": {},
   "outputs": [
    {
     "data": {
      "text/plain": [
       "Text(0, 0.5, 'Occurrence')"
      ]
     },
     "execution_count": 18,
     "metadata": {},
     "output_type": "execute_result"
    },
    {
     "data": {
      "image/png": "[encoded data removed]",
      "text/plain": [
       "<Figure size 432x288 with 1 Axes>"
      ]
     },
     "metadata": {
      "needs_background": "light"
     },
     "output_type": "display_data"
    }
   ],
   "source": [
    "top_combos.plot.bar(x ='Combination', y = 'Occurrence')\n",
    "plt.ylabel('Occurrence')"
   ]
  },
  {
   "cell_type": "markdown",
   "metadata": {},
   "source": [
    "### Total Jacpot Rate Results for Both Cases"
   ]
  },
  {
   "cell_type": "code",
   "execution_count": 19,
   "metadata": {},
   "outputs": [
    {
     "data": {
      "text/plain": [
       "([<matplotlib.axis.YTick at 0x7f749ff3b4c0>,\n",
       "  <matplotlib.axis.YTick at 0x7f749fefbb20>,\n",
       "  <matplotlib.axis.YTick at 0x7f749ff3b550>,\n",
       "  <matplotlib.axis.YTick at 0x7f74a2b95460>],\n",
       " [Text(0, 0, ''), Text(0, 0, ''), Text(0, 0, ''), Text(0, 0, '')])"
      ]
     },
     "execution_count": 19,
     "metadata": {},
     "output_type": "execute_result"
    },
    {
     "data": {
      "image/png": "[encoded data removed]",
      "text/plain": [
       "<Figure size 360x216 with 1 Axes>"
      ]
     },
     "metadata": {
      "needs_background": "light"
     },
     "output_type": "display_data"
    }
   ],
   "source": [
    "import matplotlib.pyplot as plt\n",
    "import numpy as np\n",
    "\n",
    "names = ['Fair Die', 'Unfair Die']\n",
    "values = [freq_1, freq_2]\n",
    "\n",
    "plt.figure(figsize=(5,3))\n",
    "\n",
    "plt.bar(names, values)\n",
    "plt.ylabel(\"Jackpot Rate\")\n",
    "plt.xlabel(\"Dices\")\n",
    "plt.yticks([0.0001, 0.0004, 0.0007, 0.001])"
   ]
  },
  {
   "cell_type": "markdown",
   "metadata": {},
   "source": [
    "### Scendario 3: Letters of the Roman Alphabet \n",
    "\n",
    "- Create a \"die\" of letters from a to z with weights based on their frequency of usage. See Appendix for these weights.\n",
    "- Play a game involving 5 of these dice with 1000 rolls.\n",
    "- How many combos can you that look like actual English words?\n",
    "- NOTE: \"combo\" here should really be permutation, which make sense for words. So just compute these from the result data you get from the Game object.\n",
    "- Based on your eye count, what is the relative frequency of these words versus the rest?\n",
    "- NOTE: You can do a few random sample to compute your estimate.\n",
    "- The weights for the letters are in the Appendix to this document."
   ]
  },
  {
   "cell_type": "code",
   "execution_count": 21,
   "metadata": {},
   "outputs": [
    {
     "data": {
      "text/plain": [
       "{'A': 8.4966,\n",
       " 'B': 2.072,\n",
       " 'C': 4.5388,\n",
       " 'D': 3.3844,\n",
       " 'E': 11.1607,\n",
       " 'F': 1.8121,\n",
       " 'G': 2.4705,\n",
       " 'H': 3.0034,\n",
       " 'I': 7.5448,\n",
       " 'J': 0.1965,\n",
       " 'K': 1.1016,\n",
       " 'L': 5.4893,\n",
       " 'M': 3.0129,\n",
       " 'N': 6.6544,\n",
       " 'O': 7.1635,\n",
       " 'P': 3.1671,\n",
       " 'Q': 0.1962,\n",
       " 'R': 7.5809,\n",
       " 'S': 5.7351,\n",
       " 'T': 6.9509,\n",
       " 'U': 3.6308,\n",
       " 'V': 1.0074,\n",
       " 'W': 1.2899,\n",
       " 'X': 0.2902,\n",
       " 'Y': 1.7779,\n",
       " 'Z': 0.2722}"
      ]
     },
     "execution_count": 21,
     "metadata": {},
     "output_type": "execute_result"
    }
   ],
   "source": [
    "freqs = pd.read_csv('letter-freqs.csv', sep = '\\t')\n",
    "a_row = []\n",
    "for ele in list(freqs.columns):\n",
    "    if len(ele) > 2:\n",
    "        ele = float(ele)\n",
    "    a_row.append(ele)\n",
    "freqs.loc[len(freqs)] = a_row\n",
    "freqs.columns = ['letter', 'ratio']\n",
    "freqs = freqs.sort_values(by=['letter'])\n",
    "freqs.index = np.arange(len(freqs))\n",
    "freqs = freqs.set_index('letter')\n",
    "freq_dict = list(freqs.to_dict().values())[0]\n",
    "freq_dict"
   ]
  },
  {
   "cell_type": "code",
   "execution_count": 22,
   "metadata": {},
   "outputs": [],
   "source": [
    "from string import ascii_lowercase\n",
    "alphabets = [c.upper() for c in ascii_lowercase]"
   ]
  },
  {
   "cell_type": "code",
   "execution_count": 23,
   "metadata": {},
   "outputs": [
    {
     "data": {
      "text/html": [
       "<div>\n",
       "<style scoped>\n",
       "    .dataframe tbody tr th:only-of-type {\n",
       "        vertical-align: middle;\n",
       "    }\n",
       "\n",
       "    .dataframe tbody tr th {\n",
       "        vertical-align: top;\n",
       "    }\n",
       "\n",
       "    .dataframe thead th {\n",
       "        text-align: right;\n",
       "    }\n",
       "</style>\n",
       "<table border=\"1\" class=\"dataframe\">\n",
       "  <thead>\n",
       "    <tr style=\"text-align: right;\">\n",
       "      <th></th>\n",
       "      <th>faces</th>\n",
       "      <th>weights</th>\n",
       "    </tr>\n",
       "  </thead>\n",
       "  <tbody>\n",
       "    <tr>\n",
       "      <th>0</th>\n",
       "      <td>A</td>\n",
       "      <td>8.4966</td>\n",
       "    </tr>\n",
       "    <tr>\n",
       "      <th>1</th>\n",
       "      <td>B</td>\n",
       "      <td>2.0720</td>\n",
       "    </tr>\n",
       "    <tr>\n",
       "      <th>2</th>\n",
       "      <td>C</td>\n",
       "      <td>4.5388</td>\n",
       "    </tr>\n",
       "    <tr>\n",
       "      <th>3</th>\n",
       "      <td>D</td>\n",
       "      <td>3.3844</td>\n",
       "    </tr>\n",
       "    <tr>\n",
       "      <th>4</th>\n",
       "      <td>E</td>\n",
       "      <td>11.1607</td>\n",
       "    </tr>\n",
       "  </tbody>\n",
       "</table>\n",
       "</div>"
      ],
      "text/plain": [
       "  faces  weights\n",
       "0     A   8.4966\n",
       "1     B   2.0720\n",
       "2     C   4.5388\n",
       "3     D   3.3844\n",
       "4     E  11.1607"
      ]
     },
     "execution_count": 23,
     "metadata": {},
     "output_type": "execute_result"
    }
   ],
   "source": [
    "alphabet_die = Die(alphabets)\n",
    "for key in freq_dict:\n",
    "    alphabet_die.change_weight(key, freq_dict[key])\n",
    "alphabet_die.df[:5]"
   ]
  },
  {
   "cell_type": "code",
   "execution_count": 24,
   "metadata": {},
   "outputs": [],
   "source": [
    "alphabet_die.roll_die()\n",
    "fair_game = Game([alphabet_die, alphabet_die, alphabet_die, alphabet_die, alphabet_die])\n",
    "game_num = 1000\n",
    "fair_game.play_game(game_num)\n",
    "\n",
    "analyzer = Analyzer(fair_game)"
   ]
  },
  {
   "cell_type": "code",
   "execution_count": 25,
   "metadata": {},
   "outputs": [
    {
     "data": {
      "text/plain": [
       "0"
      ]
     },
     "execution_count": 25,
     "metadata": {},
     "output_type": "execute_result"
    }
   ],
   "source": [
    "analyzer.jackpot()"
   ]
  },
  {
   "cell_type": "code",
   "execution_count": 26,
   "metadata": {},
   "outputs": [
    {
     "data": {
      "text/html": [
       "<div>\n",
       "<style scoped>\n",
       "    .dataframe tbody tr th:only-of-type {\n",
       "        vertical-align: middle;\n",
       "    }\n",
       "\n",
       "    .dataframe tbody tr th {\n",
       "        vertical-align: top;\n",
       "    }\n",
       "\n",
       "    .dataframe thead th {\n",
       "        text-align: right;\n",
       "    }\n",
       "</style>\n",
       "<table border=\"1\" class=\"dataframe\">\n",
       "  <thead>\n",
       "    <tr style=\"text-align: right;\">\n",
       "      <th></th>\n",
       "      <th>Combination</th>\n",
       "      <th>Occurrence</th>\n",
       "    </tr>\n",
       "  </thead>\n",
       "  <tbody>\n",
       "    <tr>\n",
       "      <th>0</th>\n",
       "      <td>[B, E, I, A, T]</td>\n",
       "      <td>1.0</td>\n",
       "    </tr>\n",
       "    <tr>\n",
       "      <th>1</th>\n",
       "      <td>[N, A, U, B, T]</td>\n",
       "      <td>1.0</td>\n",
       "    </tr>\n",
       "    <tr>\n",
       "      <th>2</th>\n",
       "      <td>[N, N, E, P, B]</td>\n",
       "      <td>1.0</td>\n",
       "    </tr>\n",
       "    <tr>\n",
       "      <th>3</th>\n",
       "      <td>[U, L, T, L, A]</td>\n",
       "      <td>1.0</td>\n",
       "    </tr>\n",
       "    <tr>\n",
       "      <th>4</th>\n",
       "      <td>[M, N, V, O, E]</td>\n",
       "      <td>1.0</td>\n",
       "    </tr>\n",
       "    <tr>\n",
       "      <th>...</th>\n",
       "      <td>...</td>\n",
       "      <td>...</td>\n",
       "    </tr>\n",
       "    <tr>\n",
       "      <th>995</th>\n",
       "      <td>[H, R, U, C, A]</td>\n",
       "      <td>1.0</td>\n",
       "    </tr>\n",
       "    <tr>\n",
       "      <th>996</th>\n",
       "      <td>[V, H, O, K, N]</td>\n",
       "      <td>1.0</td>\n",
       "    </tr>\n",
       "    <tr>\n",
       "      <th>997</th>\n",
       "      <td>[L, D, G, S, P]</td>\n",
       "      <td>1.0</td>\n",
       "    </tr>\n",
       "    <tr>\n",
       "      <th>998</th>\n",
       "      <td>[C, C, I, D, T]</td>\n",
       "      <td>1.0</td>\n",
       "    </tr>\n",
       "    <tr>\n",
       "      <th>999</th>\n",
       "      <td>[L, F, A, W, O]</td>\n",
       "      <td>1.0</td>\n",
       "    </tr>\n",
       "  </tbody>\n",
       "</table>\n",
       "<p>1000 rows × 2 columns</p>\n",
       "</div>"
      ],
      "text/plain": [
       "         Combination  Occurrence\n",
       "0    [B, E, I, A, T]         1.0\n",
       "1    [N, A, U, B, T]         1.0\n",
       "2    [N, N, E, P, B]         1.0\n",
       "3    [U, L, T, L, A]         1.0\n",
       "4    [M, N, V, O, E]         1.0\n",
       "..               ...         ...\n",
       "995  [H, R, U, C, A]         1.0\n",
       "996  [V, H, O, K, N]         1.0\n",
       "997  [L, D, G, S, P]         1.0\n",
       "998  [C, C, I, D, T]         1.0\n",
       "999  [L, F, A, W, O]         1.0\n",
       "\n",
       "[1000 rows x 2 columns]"
      ]
     },
     "execution_count": 26,
     "metadata": {},
     "output_type": "execute_result"
    }
   ],
   "source": [
    "alpha_combo = analyzer.combo()\n",
    "alpha_combo"
   ]
  },
  {
   "cell_type": "code",
   "execution_count": 27,
   "metadata": {},
   "outputs": [
    {
     "data": {
      "text/plain": [
       "0     [B, E, I, A, T]\n",
       "1     [N, A, U, B, T]\n",
       "2     [N, N, E, P, B]\n",
       "3     [U, L, T, L, A]\n",
       "4     [M, N, V, O, E]\n",
       "5     [L, R, C, S, B]\n",
       "6     [N, N, M, O, K]\n",
       "7     [K, O, R, K, K]\n",
       "8     [B, K, N, E, H]\n",
       "9     [N, A, T, S, S]\n",
       "10    [C, Y, S, H, O]\n",
       "11    [N, T, U, A, I]\n",
       "12    [I, E, U, G, L]\n",
       "13    [L, O, Y, U, N]\n",
       "14    [L, K, A, T, B]\n",
       "15    [R, I, I, N, O]\n",
       "16    [O, H, N, A, R]\n",
       "17    [I, O, S, D, S]\n",
       "18    [F, C, J, E, E]\n",
       "19    [A, I, P, E, R]\n",
       "20    [S, T, I, O, T]\n",
       "21    [L, E, N, E, A]\n",
       "22    [N, E, R, I, N]\n",
       "23    [C, E, R, E, R]\n",
       "24    [U, S, B, R, L]\n",
       "25    [R, R, M, A, E]\n",
       "26    [F, N, L, B, E]\n",
       "27    [F, E, T, N, L]\n",
       "28    [E, A, N, P, I]\n",
       "29    [O, S, N, V, R]\n",
       "Name: Combination, dtype: object"
      ]
     },
     "execution_count": 27,
     "metadata": {},
     "output_type": "execute_result"
    }
   ],
   "source": [
    "eyeballs = alpha_combo['Combination'][:30]\n",
    "eyeballs"
   ]
  },
  {
   "cell_type": "markdown",
   "metadata": {},
   "source": [
    "### Result\n",
    ": Apparantely, none of the combinations from my 30 samples look like actual words."
   ]
  },
  {
   "cell_type": "markdown",
   "metadata": {},
   "source": [
    "# Directory Listing\n",
    "A code block that executes the following bash command:\n",
    "\n",
    "!ls -lRF -o\n"
   ]
  },
  {
   "cell_type": "code",
   "execution_count": 1,
   "metadata": {},
   "outputs": [
    {
     "name": "stdout",
     "output_type": "stream",
     "text": [
      ".:\n",
      "total 108\n",
      "-rw-r--r-- 1 npm5ct 67845 Jul 14 17:49 final-project-submission.ipynb\n",
      "-rw-r--r-- 1 npm5ct 11357 Jul 14 10:43 LICENSE\n",
      "-rw-r--r-- 1 npm5ct  3499 Jul 14 17:16 README.md\n",
      "-rw-r--r-- 1 npm5ct   281 Jul 14 11:09 setup.py\n",
      "drwxr-sr-x 5 npm5ct  3584 Jul 14 17:49 simulator/\n",
      "drwxr-sr-x 2 npm5ct  2048 Jul 14 11:09 simulator.egg-info/\n",
      "\n",
      "./simulator:\n",
      "total 96\n",
      "-rw-r--r-- 1 npm5ct     0 Jul 14 10:44 __init__.py\n",
      "-rw-r--r-- 1 npm5ct   234 Jul 14 17:44 letter-freqs.csv\n",
      "-rw-r--r-- 1 npm5ct 60271 Jul 14 10:46 montecarlo_demo.ipynb\n",
      "-rw-r--r-- 1 npm5ct 11365 Jul 14 12:55 montecarlo.py\n",
      "drwxr-sr-x 2 npm5ct   512 Jul 14 17:34 __pycache__/\n",
      "drwxr-sr-x 3 npm5ct  2048 Jul 14 11:05 test/\n",
      "\n",
      "./simulator/__pycache__:\n",
      "total 12\n",
      "-rw-r--r-- 1 npm5ct 8178 Jul 14 17:34 montecarlo.cpython-38.pyc\n",
      "\n",
      "./simulator/test:\n",
      "total 20\n",
      "-rw-r--r-- 1 npm5ct    0 Jul 14 11:04 __init__.py\n",
      "-rw-r--r-- 1 npm5ct  831 Jul 14 11:03 montecarlo_results.txt\n",
      "-rw-r--r-- 1 npm5ct 4126 Jul 14 10:46 montecarlo_tests.py\n",
      "\n",
      "./simulator.egg-info:\n",
      "total 16\n",
      "-rw-r--r-- 1 npm5ct   1 Jul 14 11:09 dependency_links.txt\n",
      "-rw-r--r-- 1 npm5ct 229 Jul 14 11:09 PKG-INFO\n",
      "-rw-r--r-- 1 npm5ct 196 Jul 14 11:09 SOURCES.txt\n",
      "-rw-r--r-- 1 npm5ct  10 Jul 14 11:09 top_level.txt\n"
     ]
    }
   ],
   "source": [
    "!ls -lRF -o"
   ]
  },
  {
   "cell_type": "markdown",
   "metadata": {},
   "source": [
    "# Installation Output Listing\n",
    "A code block that executes the code to install your your package and outputs a successful installation."
   ]
  },
  {
   "cell_type": "code",
   "execution_count": 2,
   "metadata": {},
   "outputs": [
    {
     "name": "stdout",
     "output_type": "stream",
     "text": [
      "Defaulting to user installation because normal site-packages is not writeable\n",
      "Obtaining file:///sfs/qumulo/qhome/npm5ct/documents/MSDS/DS5100/MonteCarloSimulator\n",
      "Installing collected packages: simulator\n",
      "  Attempting uninstall: simulator\n",
      "    Found existing installation: simulator 0.1\n",
      "    Uninstalling simulator-0.1:\n",
      "      Successfully uninstalled simulator-0.1\n",
      "  Running setup.py develop for simulator\n",
      "Successfully installed simulator\n"
     ]
    }
   ],
   "source": [
    "!pip install -e."
   ]
  }
 ],
 "metadata": {
  "kernelspec": {
   "display_name": "Python 3.8",
   "language": "python",
   "name": "python-3.8"
  },
  "language_info": {
   "codemirror_mode": {
    "name": "ipython",
    "version": 3
   },
   "file_extension": ".py",
   "mimetype": "text/x-python",
   "name": "python",
   "nbconvert_exporter": "python",
   "pygments_lexer": "ipython3",
   "version": "3.8.8"
  }
 },
 "nbformat": 4,
 "nbformat_minor": 4
}
