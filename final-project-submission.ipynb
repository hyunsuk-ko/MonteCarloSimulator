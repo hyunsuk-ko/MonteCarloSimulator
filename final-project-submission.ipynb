{
 "cells": [
  {
   "cell_type": "markdown",
   "metadata": {},
   "source": [
    "# Metadata\n",
    "\n",
    "- Title: Final Project Report\n",
    "- Class: DS 5100\n",
    "- Date: July.15.2022\n",
    "- Student Name: Hyunsuk Ko\n",
    "- Student Net ID: npm5ct\n",
    "- This URL: https://github.com/hyunsuk-ko/MonteCarloSimulator/blob/main/final-project-submission.ipynb\n",
    "- GitHub Repo URL: https://github.com/hyunsuk-ko/MonteCarloSimulator\n",
    "\n",
    "\n",
    "# The Monte Carlo Module"
   ]
  },
  {
   "cell_type": "code",
   "execution_count": 1,
   "metadata": {},
   "outputs": [],
   "source": [
    "import pandas as pd\n",
    "import numpy as np"
   ]
  },
  {
   "cell_type": "code",
   "execution_count": 2,
   "metadata": {},
   "outputs": [],
   "source": [
    "import pandas as pd\n",
    "import numpy as np\n",
    "\n",
    "class Die:\n",
    "    \"\"\"\n",
    "    General Definition\n",
    "     :A die has N sides, or “faces”, and W weights, and can be rolled to select a face. \n",
    "\n",
    "- W defaults to 1.0 for each face but can be changed after the object is created.\n",
    "- Note that the weights are just numbers, not a normalized probability distribution.\n",
    "- The die has one behavior, which is to be rolled one or more times.\n",
    "- Note that what we are calling a “die” here can be any discrete random variable associated with a stochastic process, such as using a deck of cards or flipping a coin or speaking a language. Our probability model for such variable is, however, very simple – since our weights apply to only to single events, we are assuming that the events are independent. This makes sense for coin tosses but not for language use.\n",
    "    \"\"\"\n",
    "    def __init__(self, faces):\n",
    "        \"\"\"\n",
    "        - Takes an array of faces as an argument. The array's data type (dtype) may be strings or numbers.\n",
    "        - Internally iInitializes the weights to 1.0 for each face.\n",
    "        \"\"\"\n",
    "        if type(faces) != list:\n",
    "            raise ValueError(\"Type should be list.\")\n",
    "        self.faces = faces\n",
    "        self.weights = [1.0] * len(faces)\n",
    "        self.df = pd.DataFrame({'faces': self.faces, 'weights': self.weights})\n",
    "        \n",
    "    def change_weight(self, new_face, new_weight):\n",
    "        \"\"\"\n",
    "        A method to change the weight of a single side.\n",
    "        - Takes two arguments: the face value to be changed and the new weight.\n",
    "        \"\"\"\n",
    "        if (new_face not in self.faces) or (type(new_weight) != float):\n",
    "            return False\n",
    "        \n",
    "        idx = self.df[self.df['faces'] == new_face].index.values[0] # finding an index of face \n",
    "        self.weights[idx] = new_weight # setting weight of the index with new weight.\n",
    "        self.df = pd.DataFrame({'faces': self.faces, 'weights': self.weights})\n",
    "        return True\n",
    "    \n",
    "    def roll_die(self, roll_times = 1):\n",
    "        \"\"\"\n",
    "        A method to roll the die one or more times\n",
    "        \"\"\"\n",
    "        if type(roll_times) != int:\n",
    "            return False\n",
    "        \n",
    "        self.roll_times = roll_times\n",
    "        self.probabilities = [round(p / sum(self.weights),10) for p in self.weights] # Convert weights such that sums up to 1.\n",
    "        self.outcome = np.random.choice(self.faces, self.roll_times, p = self.probabilities)\n",
    "        return self.outcome\n",
    "    \n",
    "    def show_curr(self):\n",
    "        \"\"\"\n",
    "        - A method to show the user the die’s current set of faces and weights (since the latter can be changed).\n",
    "        \"\"\"\n",
    "        #print()\n",
    "        #print(\"---------------DEFAULT VERSION----------------\") \n",
    "        #print(self.df)\n",
    "        return self.df\n",
    "    \n",
    "    \n",
    "class Game:\n",
    "    \"\"\"\n",
    "    General Definition\n",
    "     : A game consists of rolling of one or more dice of the same kind one or more times. \n",
    "\n",
    "    - Each game is initialized with one or more of similarly defined dice (Die objects).\n",
    "    - By “same kind” and “similarly defined” we mean that each die in a given game has the same number of sides and associated faces, but each die object may have its own weights.\n",
    "    - The class has a behavior to play a game, i.e. to rolls all of the dice a given number of times.\n",
    "    - The class keeps the results of its most recent play. \n",
    "    \"\"\"\n",
    "    result_df = pd.DataFrame({'roll_number': [], 'die_number': [], 'result': []})\n",
    "    \n",
    "    def __init__(self, die_objs):\n",
    "        \"\"\"\n",
    "        Takes a single parameter, a list of already instantiated similar Die objects.\n",
    "        \"\"\"\n",
    "        if type(die_objs) != list:\n",
    "            raise ValueError(\"Type should be list.\")\n",
    "        self.die_objs = die_objs \n",
    "               \n",
    "    def play_game(self, game_times):\n",
    "        \"\"\"\n",
    "        Takes a parameter to specify how many times the dice should be rolled.\n",
    "        \"\"\"\n",
    "        if type(game_times) != int:\n",
    "            raise ValueError(\"Type should be int.\")\n",
    "        self.__result__ = pd.DataFrame({'roll_number': [], 'die_number': [], 'result': []}) #Game.result_df.copy()\n",
    "        self.game_times = game_times\n",
    "        count = 0\n",
    "        \n",
    "        finals = []\n",
    "        for game_time in range(game_times):\n",
    "            results = []\n",
    "            for obj in self.die_objs:\n",
    "                #faces = obj.roll_die(obj.roll_times)\n",
    "                faces = obj.roll_die(len(self.die_objs[0].faces))\n",
    "                for face in faces:\n",
    "                    results.append(face)\n",
    "            finals.append(results)\n",
    "        \n",
    "        for roll_number in range(game_times):\n",
    "            for die_number in range(len(self.die_objs[0].faces)):\n",
    "                #print(game_times)\n",
    "                #print(len(self.die_objs[0].faces))\n",
    "                \n",
    "                new_df = pd.DataFrame({'roll_number' : [roll_number], 'die_number' : [die_number], 'result' : finals[roll_number][die_number]})\n",
    "                self.__result__ = pd.concat([self.__result__, new_df], axis = 0)\n",
    "        self.__result__.index = np.arange(len(self.__result__))\n",
    "        #print()\n",
    "        #print(\"--------------PLAY GAME-----------------\")\n",
    "        #print(self.__result__)\n",
    "\n",
    "    def show(self, form = \"wide\"): # A method to show the user the results of the most recent play.\n",
    "        \"\"\"\n",
    "        Show the user the results of the most recent play.\n",
    "        \n",
    "        - The narrow form of the dataframe will have a two-column index with the roll number and the die number,\n",
    "         and a column for the face rolled.\n",
    "         \n",
    "        - The wide form of the dataframe will a single column index with the roll number, and each die number as a column.\n",
    "        \"\"\"\n",
    "        if form not in [\"wide\", \"narrow\"]:\n",
    "            raise ValueError(\"Enter wide or narrow.\")\n",
    "                  \n",
    "        if form == \"narrow\": # have a two-column index with the roll number and the die number, and a column for the face rolled.  \n",
    "            narrow_df = self.__result__.copy() \n",
    "            # Create a multi-index, using `roll number`, 'die number' as part of the key.\n",
    "            narrow_df = narrow_df.set_index(['roll_number'])\n",
    "            narrow_df = narrow_df.reset_index().set_index(['roll_number', 'die_number']) \n",
    "            #print()\n",
    "            #print(\"---------------NARROW VERSION----------------\") \n",
    "            #print(narrow_df)\n",
    "            return narrow_df\n",
    "        \n",
    "        elif form == \"wide\": # a single column index with the roll number, and each die number as a column.\n",
    "            wide_df = self.__result__.copy().pivot(index = 'roll_number', columns = 'die_number', values = 'result')\n",
    "            #print()\n",
    "            #print(\"---------------WIDE VERSION----------------\") \n",
    "            #print(wide_df)            \n",
    "            return wide_df\n",
    "        \n",
    "class Analyzer:\n",
    "    \"\"\"\n",
    "    General Definition\n",
    "    : An analyzer takes the results of a single game and computes various descriptive statistical properties about it. These properties results are available as attributes of an Analyzer object. Attributes (and associated methods) include:\n",
    "    \"\"\"\n",
    "    def __init__(self, game_obj):\n",
    "        \"\"\"\n",
    "        Takes a game object as its input parameter. \n",
    "        \"\"\" \n",
    "        self.game_obj = game_obj\n",
    "        self.die_objs = game_obj.die_objs  # sample_die, sample_die_2\n",
    "        # has an index of the roll number and face values as columns (i.e. it is in wide format).\n",
    "        self.face_counts_per_roll = pd.DataFrame({'roll_number': [], 'face_count': []}) \n",
    "        self.jackpot_count = 0 # how many times a roll resulted in all faces being the same, e.g. all one for a six-sided die.\n",
    "        self.combo_count = pd.DataFrame({'Combination' : [], 'Occurrence' : []})\n",
    "        self.all_jackpot_results = pd.DataFrame({'Jackpot': [], 'Combination' : []})\n",
    "            \n",
    "    def jackpot(self):\n",
    "        # roll_times = 3 | play_game\n",
    "        \"\"\"\n",
    "        Compute how many times the game resulted in all faces being identical.\n",
    "        \"\"\"\n",
    "        obj_jackpot_result = pd.DataFrame({'Jackpot': [], 'Combination' : []})\n",
    "        game_iteration = self.game_obj.game_times\n",
    "        #print(\"game iteration: \", game_iteration)\n",
    "        for i in range(game_iteration): # 3\n",
    "            result_face = []\n",
    "            for die_obj in self.die_objs: # 2\n",
    "                curr_outcome = die_obj.roll_die()[0]\n",
    "                #print(curr_outcome)\n",
    "                result_face.append(curr_outcome)\n",
    "            #print(result_face)\n",
    "            #print()\n",
    "            if (len(set(result_face)) == 1): # JACKPOT\n",
    "                self.jackpot_count += 1\n",
    "                curr_df = pd.DataFrame({'Combination' : [sorted(result_face)], 'Jackpot': [1]})\n",
    "            else:\n",
    "                curr_df = pd.DataFrame({'Combination' : [sorted(result_face)], 'Jackpot': [0]})\n",
    "            obj_jackpot_result =  pd.concat([obj_jackpot_result, curr_df])\n",
    "        obj_jackpot_result.index = np.arange(len(obj_jackpot_result))\n",
    "        self.all_jackpot_results = pd.concat([self.all_jackpot_results, obj_jackpot_result])\n",
    "        #print()\n",
    "        #print(\"---------------JACKPOT----------------\")   \n",
    "        #print(self.all_jackpot_results)\n",
    "        #print(\"Total Jackpot count:\", self.jackpot_count)\n",
    "        return self.jackpot_count            \n",
    "\n",
    "  \n",
    "    def combo(self):\n",
    "        \"\"\"\n",
    "        Compute the distinct combinations of faces rolled, along with their counts.\n",
    "        \"\"\"\n",
    "        count = self.all_jackpot_results['Combination'].value_counts()\n",
    "        \n",
    "        # Stores the results as a dataframe in a public attribute.\n",
    "        count_df = pd.DataFrame({'Combination': count.index, 'Occurrence': count.values})\n",
    "        \n",
    "        # Combinations should be sorted and saved as a multi-columned index.\n",
    "        self.combo_count = pd.concat([self.combo_count, count_df])\n",
    "        \n",
    "        #print()\n",
    "        #print(\"---------------COMBO----------------\") \n",
    "        #print(self.combo_count)\n",
    "        return self.combo_count\n",
    "    \n",
    "    def face_count(self):\n",
    "        \"\"\"\n",
    "        Compute how many times a given face is rolled in each event.\n",
    "        \"\"\"\n",
    "        faces = self.die_objs[0].faces.copy()\n",
    "        all_counts = []\n",
    "        \n",
    "        for combo in self.all_jackpot_results['Combination']:\n",
    "            face_dict = dict()\n",
    "            for face in faces:\n",
    "                face_dict[face] = 0\n",
    "            for head in combo:        \n",
    "                face_dict[head] += 1\n",
    "            all_counts.append(list(face_dict.values()))\n",
    "        \n",
    "        face_df = pd.DataFrame()       \n",
    "        for face in list(face_dict.keys()):   \n",
    "            face_df[face] = []\n",
    "        \n",
    "        for i in range(len(all_counts)):\n",
    "            face_df.loc[len(face_df)] = all_counts[i] # appending every roll result to df\n",
    "            \n",
    "        face_df.index.name = 'roll_number'\n",
    "        #print()\n",
    "        #print(\"---------------FACE COUNT----------------\") \n",
    "        #print(face_df)\n",
    "        return face_df"
   ]
  },
  {
   "cell_type": "markdown",
   "metadata": {},
   "source": [
    "# Test Module"
   ]
  },
  {
   "cell_type": "code",
   "execution_count": 3,
   "metadata": {},
   "outputs": [],
   "source": [
    "import unittest\n",
    "import pandas as pd\n",
    "\n",
    "class MonteCarloTestSuite(unittest.TestCase):\n",
    "    def test_0_die_init(self): # Add a book and test if it is in `book_list`\n",
    "        with self.assertRaises(ValueError) as exception_context:\n",
    "            Die(('H','T'))\n",
    "        self.assertEqual(str(exception_context.exception),\"Type should be list.\")\n",
    "        \n",
    "    def test_01_die_change_weight(self): # Add a book and test if it is in `book_list`\n",
    "        test_1 = Die(['H','T'])\n",
    "        testValue = test_1.change_weight('H', 10.0)\n",
    "        message = \"Test value is not true.\"\n",
    "        self.assertTrue(testValue, message)\n",
    "        \n",
    "    def test_02_die_change_weight(self): # Add a book and test if it is in `book_list`\n",
    "        test_2 = Die(['H','T'])\n",
    "        testValue = test_2.change_weight('H', 1)\n",
    "        message = \"Test value is not false.\"\n",
    "        self.assertFalse(testValue, message)\n",
    "\n",
    "    def test_03_die_change_weight(self): # Add a book and test if it is in `book_list`\n",
    "        test_3 = Die(['H','T'])\n",
    "        testValue = test_3.change_weight('A', 10.0)\n",
    "        message = \"Test value is not false.\"\n",
    "        self.assertFalse(testValue, message)\n",
    "        \n",
    "    def test_04_die_roll_die(self): \n",
    "        test_4 = Die(['H','T'])\n",
    "        test_4.change_weight('H', 100.0)\n",
    "        actual = test_4.roll_die(3)[0]\n",
    "        expected = 'H'\n",
    "        self.assertEqual(actual, expected)\n",
    "        \n",
    "    def test_05_die_roll_die(self): # Add a book and test if it is in `book_list`\n",
    "        test_5 = Die(['H','T'])\n",
    "        testValue = test_5.roll_die(\"A\")\n",
    "        message = \"Test value is not false.\"\n",
    "        self.assertFalse(testValue, message)\n",
    "        \n",
    "    def test_06_game_init(self): # Add a book and test if it is in `book_list`\n",
    "        with self.assertRaises(ValueError) as exception_context:\n",
    "            Game(('H','T'))\n",
    "        self.assertEqual(str(exception_context.exception),\"Type should be list.\")\n",
    "        \n",
    "    def test_07_game_play_game(self): # Add a book and test if it is in `book_list`\n",
    "        sample_die = Die(['H','T'])\n",
    "        sample_die.roll_die()\n",
    "        sample_die_2 = Die(['H','T'])\n",
    "        sample_die_2.roll_die()\n",
    "        game = Game([sample_die, sample_die_2])\n",
    "        with self.assertRaises(ValueError) as exception_context:\n",
    "            game.play_game(5.48)\n",
    "        self.assertEqual(str(exception_context.exception),\"Type should be int.\")\n",
    "        \n",
    "    def test_08_game_play_game(self): # Add a book and test if it is in `book_list`\n",
    "        sample_die = Die(['H','T'])\n",
    "        sample_die.roll_die()\n",
    "        sample_die_2 = Die(['H','T'])\n",
    "        sample_die_2.roll_die()\n",
    "        game = Game([sample_die, sample_die_2])\n",
    "        game.play_game(5)\n",
    "        with self.assertRaises(ValueError) as exception_context:\n",
    "            game.show(\"ab\")\n",
    "        self.assertEqual(str(exception_context.exception),\"Enter wide or narrow.\")\n",
    "\n",
    "    def test_10_analyzer_jackpot(self):\n",
    "        sample_die = Die(['H','T'])\n",
    "        sample_die.roll_die()\n",
    "        sample_die.change_weight('H', 100.0)\n",
    "        game = Game([sample_die])\n",
    "        game.play_game(5)\n",
    "        analyzer = Analyzer(game)\n",
    "        actual = analyzer.jackpot()\n",
    "        expected = 5\n",
    "        self.assertEqual(actual, expected)\n",
    "        \n",
    "    def test_11_analyzer_combo(self):\n",
    "        sample_die = Die(['H','T'])\n",
    "        sample_die.roll_die()\n",
    "        sample_die_2 = Die(['H','T'])\n",
    "        sample_die_2.roll_die()\n",
    "        game = Game([sample_die, sample_die_2])\n",
    "        game.play_game(5)\n",
    "        analyzer = Analyzer(game)\n",
    "        analyzer.jackpot()\n",
    "        actual = analyzer.combo().iloc[0]['Occurrence']\n",
    "        expected = 2\n",
    "        self.assertEqual(actual, expected)\n",
    "        \n",
    "    def test_12_analyzer_face_count(self):\n",
    "        sample_die = Die(['H','T'])\n",
    "        sample_die.roll_die()\n",
    "        sample_die.change_weight('T', 100.0)\n",
    "        game = Game([sample_die])\n",
    "        game.play_game(5)\n",
    "        analyzer = Analyzer(game)\n",
    "        analyzer.jackpot()\n",
    "        analyzer.combo()\n",
    "        actual = analyzer.face_count().iloc[0]['H']\n",
    "        expected = 0\n",
    "        self.assertEqual(actual, expected)"
   ]
  },
  {
   "cell_type": "markdown",
   "metadata": {},
   "source": [
    "# Test Results"
   ]
  },
  {
   "cell_type": "markdown",
   "metadata": {},
   "source": [
    "test_01_die_change_weight (__main__.MonteCarloTestSuite) ... ok\n",
    "\n",
    "test_02_die_change_weight (__main__.MonteCarloTestSuite) ... ok\n",
    "\n",
    "test_03_die_change_weight (__main__.MonteCarloTestSuite) ... ok\n",
    "\n",
    "test_04_die_roll_die (__main__.MonteCarloTestSuite) ... ok\n",
    "\n",
    "test_05_die_roll_die (__main__.MonteCarloTestSuite) ... ok\n",
    "\n",
    "test_06_game_init (__main__.MonteCarloTestSuite) ... ok\n",
    "\n",
    "test_07_game_play_game (__main__.MonteCarloTestSuite) ... ok\n",
    "\n",
    "test_08_game_play_game (__main__.MonteCarloTestSuite) ... ok\n",
    "\n",
    "test_0_die_init (__main__.MonteCarloTestSuite) ... ok\n",
    "\n",
    "test_10_analyzer_jackpot (__main__.MonteCarloTestSuite) ... ok\n",
    "\n",
    "test_11_analyzer_combo (__main__.MonteCarloTestSuite) ... ok\n",
    "\n",
    "test_12_analyzer_face_count (__main__.MonteCarloTestSuite) ... ok\n",
    "\n",
    "\n",
    "----------------------------------------------------------------------\n",
    "Ran 12 tests in 0.051s\n",
    "\n",
    "OK"
   ]
  },
  {
   "cell_type": "markdown",
   "metadata": {},
   "source": [
    "# Scenarios\n",
    "Code blocks with your scenarios and their outputs.\n",
    "These should have appropriate import statements even though the code is now in the same notebook as the classes it calls."
   ]
  },
  {
   "cell_type": "markdown",
   "metadata": {},
   "source": [
    "### Scenario 1: A 2-headed coin\n",
    "\n",
    "- Create a fair coin (with faces H and T) and one unfair coin, in which one of the faces has a weight of 5 and the others 1.\n",
    "- Play a game of 1000 flips of 3 coins with all fair dice.\n",
    "- Play a game of 1000 flips with 2 unfair dice and 1 fair die.\n",
    "- For each game, use an Analyzer object to determine the relative frequency of jackpots – getting either all Hs or all Ts.\n",
    "- Compute relative frequency as the number of jackpots over the total number of rolls.\n",
    "- Show your results, comparing the two relative frequencies, in a simple bar chart."
   ]
  },
  {
   "cell_type": "code",
   "execution_count": 4,
   "metadata": {},
   "outputs": [
    {
     "data": {
      "text/plain": [
       "0.259"
      ]
     },
     "execution_count": 4,
     "metadata": {},
     "output_type": "execute_result"
    }
   ],
   "source": [
    "fair_die = Die(['H','T']) # Fair coin\n",
    "fair_die.roll_die()\n",
    "fair_game = Game([fair_die, fair_die, fair_die])\n",
    "game_num = 1000\n",
    "fair_game.play_game(game_num)\n",
    "\n",
    "analyzer = Analyzer(fair_game)\n",
    "fair_freq = analyzer.jackpot() / game_num\n",
    "fair_freq"
   ]
  },
  {
   "cell_type": "code",
   "execution_count": 5,
   "metadata": {},
   "outputs": [
    {
     "data": {
      "text/plain": [
       "0.358"
      ]
     },
     "execution_count": 5,
     "metadata": {},
     "output_type": "execute_result"
    }
   ],
   "source": [
    "fair_die_2 = Die(['H','T']) # Fair coin\n",
    "fair_die_2.roll_die()\n",
    "\n",
    "unfair_die_3 = Die(['H','T']) \n",
    "unfair_die_3.change_weight('H', 5.0)\n",
    "unfair_die_3.roll_die()\n",
    "\n",
    "unfair_die_4 = Die(['H','T']) \n",
    "unfair_die_4.change_weight('H', 5.0)\n",
    "unfair_die_4.roll_die()\n",
    "\n",
    "unfair_game = Game([fair_die_2, unfair_die_3, unfair_die_4])\n",
    "game_num = 1000\n",
    "unfair_game.play_game(game_num)\n",
    "\n",
    "unfair_analyzer = Analyzer(unfair_game)\n",
    "unfair_freq = unfair_analyzer.jackpot() / game_num\n",
    "unfair_freq"
   ]
  },
  {
   "cell_type": "code",
   "execution_count": 6,
   "metadata": {},
   "outputs": [
    {
     "data": {
      "text/plain": [
       "([<matplotlib.axis.YTick at 0x7f0301d09d00>,\n",
       "  <matplotlib.axis.YTick at 0x7f0301d098e0>,\n",
       "  <matplotlib.axis.YTick at 0x7f0301d03730>,\n",
       "  <matplotlib.axis.YTick at 0x7f0301484580>,\n",
       "  <matplotlib.axis.YTick at 0x7f0301484a90>,\n",
       "  <matplotlib.axis.YTick at 0x7f0301484fa0>],\n",
       " [Text(0, 0, ''),\n",
       "  Text(0, 0, ''),\n",
       "  Text(0, 0, ''),\n",
       "  Text(0, 0, ''),\n",
       "  Text(0, 0, ''),\n",
       "  Text(0, 0, '')])"
      ]
     },
     "execution_count": 6,
     "metadata": {},
     "output_type": "execute_result"
    },
    {
     "data": {
      "image/png": "[encoded data removed]",
      "text/plain": [
       "<Figure size 360x216 with 1 Axes>"
      ]
     },
     "metadata": {
      "needs_background": "light"
     },
     "output_type": "display_data"
    }
   ],
   "source": [
    "import matplotlib.pyplot as plt\n",
    "import numpy as np\n",
    "\n",
    "names = ['Fair Die', 'Unfair Die']\n",
    "values = [fair_freq, unfair_freq]\n",
    "\n",
    "plt.figure(figsize=(5,3))\n",
    "\n",
    "plt.bar(names, values)\n",
    "plt.ylabel(\"Jackpot Rate\")\n",
    "plt.xlabel(\"Dices\")\n",
    "plt.yticks([0, 0.2, 0.4, 0.6, 0.8, 1])"
   ]
  },
  {
   "cell_type": "markdown",
   "metadata": {},
   "source": [
    "### Scenario 2: A 6-sided die\n",
    "\n",
    "- Create a fair die and two unfair dice, all of six sides with the faces 1 through 6. One unfair die (Type 1) will weight 6 five times more than the others (i.e. it has weight of 5 and the others a weight of 1 each). The other unfair die (Type 2) will  weight 1 five times more than the others.\n",
    "- Play a game of 10000 rolls with 5 fair dice.\n",
    "- Play a game of 10000 rolls with 2 unfair dice of type 1, 1 unfair die of type 2, and the rest fair dice.\n",
    "- For each game, use an Analyzer object to determine the relative frequency of jackpots and show your results, comparing the two relative frequencies, in a simple bar chart.\n",
    "- Also compute 10 most frequent combinations of faces for each game. Plot each of these as bar charts."
   ]
  },
  {
   "cell_type": "markdown",
   "metadata": {},
   "source": [
    "### Case 1: 5 Fair Dice"
   ]
  },
  {
   "cell_type": "code",
   "execution_count": 7,
   "metadata": {},
   "outputs": [
    {
     "data": {
      "text/plain": [
       "True"
      ]
     },
     "execution_count": 7,
     "metadata": {},
     "output_type": "execute_result"
    }
   ],
   "source": [
    "fair = Die(['1','2','3','4','5','6'])\n",
    "unfair_1 = Die(['1','2','3','4','5','6'])\n",
    "unfair_2 = Die(['1','2','3','4','5','6'])\n",
    "unfair_1.change_weight('6', 5.0)\n",
    "unfair_2.change_weight('1', 5.0)"
   ]
  },
  {
   "cell_type": "code",
   "execution_count": 8,
   "metadata": {},
   "outputs": [
    {
     "data": {
      "text/plain": [
       "0.0013"
      ]
     },
     "execution_count": 8,
     "metadata": {},
     "output_type": "execute_result"
    }
   ],
   "source": [
    "fair.roll_die()\n",
    "game_1 = Game([fair, fair, fair, fair, fair])\n",
    "game_num = 10000\n",
    "game_1.play_game(game_num)\n",
    "\n",
    "analyzer_1 = Analyzer(game_1)\n",
    "freq_1 = analyzer_1.jackpot() / game_num\n",
    "freq_1"
   ]
  },
  {
   "cell_type": "code",
   "execution_count": 9,
   "metadata": {},
   "outputs": [
    {
     "data": {
      "text/html": [
       "<div>\n",
       "<style scoped>\n",
       "    .dataframe tbody tr th:only-of-type {\n",
       "        vertical-align: middle;\n",
       "    }\n",
       "\n",
       "    .dataframe tbody tr th {\n",
       "        vertical-align: top;\n",
       "    }\n",
       "\n",
       "    .dataframe thead th {\n",
       "        text-align: right;\n",
       "    }\n",
       "</style>\n",
       "<table border=\"1\" class=\"dataframe\">\n",
       "  <thead>\n",
       "    <tr style=\"text-align: right;\">\n",
       "      <th></th>\n",
       "      <th>Combination</th>\n",
       "      <th>Occurrence</th>\n",
       "    </tr>\n",
       "  </thead>\n",
       "  <tbody>\n",
       "    <tr>\n",
       "      <th>0</th>\n",
       "      <td>[1, 2, 4, 5, 6]</td>\n",
       "      <td>164.0</td>\n",
       "    </tr>\n",
       "    <tr>\n",
       "      <th>1</th>\n",
       "      <td>[1, 2, 3, 4, 5]</td>\n",
       "      <td>159.0</td>\n",
       "    </tr>\n",
       "    <tr>\n",
       "      <th>2</th>\n",
       "      <td>[2, 3, 4, 5, 6]</td>\n",
       "      <td>158.0</td>\n",
       "    </tr>\n",
       "    <tr>\n",
       "      <th>3</th>\n",
       "      <td>[1, 2, 3, 4, 6]</td>\n",
       "      <td>158.0</td>\n",
       "    </tr>\n",
       "    <tr>\n",
       "      <th>4</th>\n",
       "      <td>[1, 2, 3, 5, 6]</td>\n",
       "      <td>152.0</td>\n",
       "    </tr>\n",
       "    <tr>\n",
       "      <th>5</th>\n",
       "      <td>[1, 3, 4, 5, 6]</td>\n",
       "      <td>139.0</td>\n",
       "    </tr>\n",
       "    <tr>\n",
       "      <th>6</th>\n",
       "      <td>[1, 4, 5, 6, 6]</td>\n",
       "      <td>99.0</td>\n",
       "    </tr>\n",
       "    <tr>\n",
       "      <th>7</th>\n",
       "      <td>[1, 3, 3, 4, 6]</td>\n",
       "      <td>97.0</td>\n",
       "    </tr>\n",
       "    <tr>\n",
       "      <th>8</th>\n",
       "      <td>[1, 2, 5, 6, 6]</td>\n",
       "      <td>95.0</td>\n",
       "    </tr>\n",
       "    <tr>\n",
       "      <th>9</th>\n",
       "      <td>[1, 2, 4, 6, 6]</td>\n",
       "      <td>93.0</td>\n",
       "    </tr>\n",
       "  </tbody>\n",
       "</table>\n",
       "</div>"
      ],
      "text/plain": [
       "       Combination  Occurrence\n",
       "0  [1, 2, 4, 5, 6]       164.0\n",
       "1  [1, 2, 3, 4, 5]       159.0\n",
       "2  [2, 3, 4, 5, 6]       158.0\n",
       "3  [1, 2, 3, 4, 6]       158.0\n",
       "4  [1, 2, 3, 5, 6]       152.0\n",
       "5  [1, 3, 4, 5, 6]       139.0\n",
       "6  [1, 4, 5, 6, 6]        99.0\n",
       "7  [1, 3, 3, 4, 6]        97.0\n",
       "8  [1, 2, 5, 6, 6]        95.0\n",
       "9  [1, 2, 4, 6, 6]        93.0"
      ]
     },
     "execution_count": 9,
     "metadata": {},
     "output_type": "execute_result"
    }
   ],
   "source": [
    "a = analyzer_1.combo()\n",
    "top_combos = a.sort_values('Occurrence', ascending = False)[:10]\n",
    "top_combos"
   ]
  },
  {
   "cell_type": "code",
   "execution_count": 10,
   "metadata": {},
   "outputs": [
    {
     "data": {
      "text/plain": [
       "Text(0, 0.5, 'Occurrence')"
      ]
     },
     "execution_count": 10,
     "metadata": {},
     "output_type": "execute_result"
    },
    {
     "data": {
      "image/png": "[encoded data removed]",
      "text/plain": [
       "<Figure size 432x288 with 1 Axes>"
      ]
     },
     "metadata": {
      "needs_background": "light"
     },
     "output_type": "display_data"
    }
   ],
   "source": [
    "top_combos.plot.bar(x ='Combination', y = 'Occurrence')\n",
    "plt.ylabel('Occurrence')"
   ]
  },
  {
   "cell_type": "markdown",
   "metadata": {},
   "source": [
    "### Case 2: 2 unfair dice of type 1, 1 unfair die of type 2, and the rest fair dice"
   ]
  },
  {
   "cell_type": "code",
   "execution_count": 11,
   "metadata": {},
   "outputs": [
    {
     "data": {
      "text/plain": [
       "0.0011"
      ]
     },
     "execution_count": 11,
     "metadata": {},
     "output_type": "execute_result"
    }
   ],
   "source": [
    "fair.roll_die()\n",
    "unfair_1.roll_die()\n",
    "unfair_2.roll_die()\n",
    "game_2 = Game([fair, fair, unfair_1, unfair_1, unfair_2])\n",
    "game_num = 10000\n",
    "game_2.play_game(game_num)\n",
    "analyzer_2 = Analyzer(game_2)\n",
    "freq_2 = analyzer_2.jackpot() / game_num\n",
    "freq_2"
   ]
  },
  {
   "cell_type": "code",
   "execution_count": 12,
   "metadata": {},
   "outputs": [
    {
     "data": {
      "text/html": [
       "<div>\n",
       "<style scoped>\n",
       "    .dataframe tbody tr th:only-of-type {\n",
       "        vertical-align: middle;\n",
       "    }\n",
       "\n",
       "    .dataframe tbody tr th {\n",
       "        vertical-align: top;\n",
       "    }\n",
       "\n",
       "    .dataframe thead th {\n",
       "        text-align: right;\n",
       "    }\n",
       "</style>\n",
       "<table border=\"1\" class=\"dataframe\">\n",
       "  <thead>\n",
       "    <tr style=\"text-align: right;\">\n",
       "      <th></th>\n",
       "      <th>Combination</th>\n",
       "      <th>Occurrence</th>\n",
       "    </tr>\n",
       "  </thead>\n",
       "  <tbody>\n",
       "    <tr>\n",
       "      <th>0</th>\n",
       "      <td>[1, 3, 4, 6, 6]</td>\n",
       "      <td>213.0</td>\n",
       "    </tr>\n",
       "    <tr>\n",
       "      <th>1</th>\n",
       "      <td>[1, 2, 4, 6, 6]</td>\n",
       "      <td>210.0</td>\n",
       "    </tr>\n",
       "    <tr>\n",
       "      <th>2</th>\n",
       "      <td>[1, 3, 5, 6, 6]</td>\n",
       "      <td>205.0</td>\n",
       "    </tr>\n",
       "    <tr>\n",
       "      <th>3</th>\n",
       "      <td>[1, 4, 5, 6, 6]</td>\n",
       "      <td>199.0</td>\n",
       "    </tr>\n",
       "    <tr>\n",
       "      <th>4</th>\n",
       "      <td>[1, 2, 5, 6, 6]</td>\n",
       "      <td>194.0</td>\n",
       "    </tr>\n",
       "    <tr>\n",
       "      <th>5</th>\n",
       "      <td>[1, 2, 3, 6, 6]</td>\n",
       "      <td>189.0</td>\n",
       "    </tr>\n",
       "    <tr>\n",
       "      <th>6</th>\n",
       "      <td>[1, 2, 3, 5, 6]</td>\n",
       "      <td>175.0</td>\n",
       "    </tr>\n",
       "    <tr>\n",
       "      <th>7</th>\n",
       "      <td>[1, 2, 3, 4, 6]</td>\n",
       "      <td>165.0</td>\n",
       "    </tr>\n",
       "    <tr>\n",
       "      <th>8</th>\n",
       "      <td>[1, 1, 5, 6, 6]</td>\n",
       "      <td>162.0</td>\n",
       "    </tr>\n",
       "    <tr>\n",
       "      <th>9</th>\n",
       "      <td>[1, 3, 4, 5, 6]</td>\n",
       "      <td>158.0</td>\n",
       "    </tr>\n",
       "  </tbody>\n",
       "</table>\n",
       "</div>"
      ],
      "text/plain": [
       "       Combination  Occurrence\n",
       "0  [1, 3, 4, 6, 6]       213.0\n",
       "1  [1, 2, 4, 6, 6]       210.0\n",
       "2  [1, 3, 5, 6, 6]       205.0\n",
       "3  [1, 4, 5, 6, 6]       199.0\n",
       "4  [1, 2, 5, 6, 6]       194.0\n",
       "5  [1, 2, 3, 6, 6]       189.0\n",
       "6  [1, 2, 3, 5, 6]       175.0\n",
       "7  [1, 2, 3, 4, 6]       165.0\n",
       "8  [1, 1, 5, 6, 6]       162.0\n",
       "9  [1, 3, 4, 5, 6]       158.0"
      ]
     },
     "execution_count": 12,
     "metadata": {},
     "output_type": "execute_result"
    }
   ],
   "source": [
    "b = analyzer_2.combo()\n",
    "top_combos = b.sort_values('Occurrence', ascending = False)[:10]\n",
    "top_combos"
   ]
  },
  {
   "cell_type": "code",
   "execution_count": 13,
   "metadata": {},
   "outputs": [
    {
     "data": {
      "text/plain": [
       "Text(0, 0.5, 'Occurrence')"
      ]
     },
     "execution_count": 13,
     "metadata": {},
     "output_type": "execute_result"
    },
    {
     "data": {
      "image/png": "[encoded data removed]",
      "text/plain": [
       "<Figure size 432x288 with 1 Axes>"
      ]
     },
     "metadata": {
      "needs_background": "light"
     },
     "output_type": "display_data"
    }
   ],
   "source": [
    "top_combos.plot.bar(x ='Combination', y = 'Occurrence')\n",
    "plt.ylabel('Occurrence')"
   ]
  },
  {
   "cell_type": "markdown",
   "metadata": {},
   "source": [
    "### Total Jacpot Rate Results for Both Cases"
   ]
  },
  {
   "cell_type": "code",
   "execution_count": 14,
   "metadata": {},
   "outputs": [
    {
     "data": {
      "text/plain": [
       "([<matplotlib.axis.YTick at 0x7f02ffc5dc70>,\n",
       "  <matplotlib.axis.YTick at 0x7f02ffc5d850>,\n",
       "  <matplotlib.axis.YTick at 0x7f030013cee0>,\n",
       "  <matplotlib.axis.YTick at 0x7f02fecc3fd0>],\n",
       " [Text(0, 0, ''), Text(0, 0, ''), Text(0, 0, ''), Text(0, 0, '')])"
      ]
     },
     "execution_count": 14,
     "metadata": {},
     "output_type": "execute_result"
    },
    {
     "data": {
      "image/png": "[encoded data removed]",
      "text/plain": [
       "<Figure size 360x216 with 1 Axes>"
      ]
     },
     "metadata": {
      "needs_background": "light"
     },
     "output_type": "display_data"
    }
   ],
   "source": [
    "import matplotlib.pyplot as plt\n",
    "import numpy as np\n",
    "\n",
    "names = ['Fair Die', 'Unfair Die']\n",
    "values = [freq_1, freq_2]\n",
    "\n",
    "plt.figure(figsize=(5,3))\n",
    "\n",
    "plt.bar(names, values)\n",
    "plt.ylabel(\"Jackpot Rate\")\n",
    "plt.xlabel(\"Dices\")\n",
    "plt.yticks([0.0001, 0.0004, 0.0007, 0.001])"
   ]
  },
  {
   "cell_type": "markdown",
   "metadata": {},
   "source": [
    "### Scendario 3: Letters of the Roman Alphabet \n",
    "\n",
    "- Create a \"die\" of letters from a to z with weights based on their frequency of usage. See Appendix for these weights.\n",
    "- Play a game involving 5 of these dice with 1000 rolls.\n",
    "- How many combos can you that look like actual English words?\n",
    "- NOTE: \"combo\" here should really be permutation, which make sense for words. So just compute these from the result data you get from the Game object.\n",
    "- Based on your eye count, what is the relative frequency of these words versus the rest?\n",
    "- NOTE: You can do a few random sample to compute your estimate.\n",
    "- The weights for the letters are in the Appendix to this document."
   ]
  },
  {
   "cell_type": "code",
   "execution_count": 15,
   "metadata": {},
   "outputs": [
    {
     "data": {
      "text/plain": [
       "{'A': 8.4966,\n",
       " 'B': 2.072,\n",
       " 'C': 4.5388,\n",
       " 'D': 3.3844,\n",
       " 'E': 11.1607,\n",
       " 'F': 1.8121,\n",
       " 'G': 2.4705,\n",
       " 'H': 3.0034,\n",
       " 'I': 7.5448,\n",
       " 'J': 0.1965,\n",
       " 'K': 1.1016,\n",
       " 'L': 5.4893,\n",
       " 'M': 3.0129,\n",
       " 'N': 6.6544,\n",
       " 'O': 7.1635,\n",
       " 'P': 3.1671,\n",
       " 'Q': 0.1962,\n",
       " 'R': 7.5809,\n",
       " 'S': 5.7351,\n",
       " 'T': 6.9509,\n",
       " 'U': 3.6308,\n",
       " 'V': 1.0074,\n",
       " 'W': 1.2899,\n",
       " 'X': 0.2902,\n",
       " 'Y': 1.7779,\n",
       " 'Z': 0.2722}"
      ]
     },
     "execution_count": 15,
     "metadata": {},
     "output_type": "execute_result"
    }
   ],
   "source": [
    "freqs = pd.read_csv('simulator/letter-freqs.csv', sep = '\\t')\n",
    "a_row = []\n",
    "for ele in list(freqs.columns):\n",
    "    if len(ele) > 2:\n",
    "        ele = float(ele)\n",
    "    a_row.append(ele)\n",
    "freqs.loc[len(freqs)] = a_row\n",
    "freqs.columns = ['letter', 'ratio']\n",
    "freqs = freqs.sort_values(by=['letter'])\n",
    "freqs.index = np.arange(len(freqs))\n",
    "freqs = freqs.set_index('letter')\n",
    "freq_dict = list(freqs.to_dict().values())[0]\n",
    "freq_dict"
   ]
  },
  {
   "cell_type": "code",
   "execution_count": 16,
   "metadata": {},
   "outputs": [],
   "source": [
    "from string import ascii_lowercase\n",
    "alphabets = [c.upper() for c in ascii_lowercase]"
   ]
  },
  {
   "cell_type": "code",
   "execution_count": 17,
   "metadata": {},
   "outputs": [
    {
     "data": {
      "text/html": [
       "<div>\n",
       "<style scoped>\n",
       "    .dataframe tbody tr th:only-of-type {\n",
       "        vertical-align: middle;\n",
       "    }\n",
       "\n",
       "    .dataframe tbody tr th {\n",
       "        vertical-align: top;\n",
       "    }\n",
       "\n",
       "    .dataframe thead th {\n",
       "        text-align: right;\n",
       "    }\n",
       "</style>\n",
       "<table border=\"1\" class=\"dataframe\">\n",
       "  <thead>\n",
       "    <tr style=\"text-align: right;\">\n",
       "      <th></th>\n",
       "      <th>faces</th>\n",
       "      <th>weights</th>\n",
       "    </tr>\n",
       "  </thead>\n",
       "  <tbody>\n",
       "    <tr>\n",
       "      <th>0</th>\n",
       "      <td>A</td>\n",
       "      <td>8.4966</td>\n",
       "    </tr>\n",
       "    <tr>\n",
       "      <th>1</th>\n",
       "      <td>B</td>\n",
       "      <td>2.0720</td>\n",
       "    </tr>\n",
       "    <tr>\n",
       "      <th>2</th>\n",
       "      <td>C</td>\n",
       "      <td>4.5388</td>\n",
       "    </tr>\n",
       "    <tr>\n",
       "      <th>3</th>\n",
       "      <td>D</td>\n",
       "      <td>3.3844</td>\n",
       "    </tr>\n",
       "    <tr>\n",
       "      <th>4</th>\n",
       "      <td>E</td>\n",
       "      <td>11.1607</td>\n",
       "    </tr>\n",
       "  </tbody>\n",
       "</table>\n",
       "</div>"
      ],
      "text/plain": [
       "  faces  weights\n",
       "0     A   8.4966\n",
       "1     B   2.0720\n",
       "2     C   4.5388\n",
       "3     D   3.3844\n",
       "4     E  11.1607"
      ]
     },
     "execution_count": 17,
     "metadata": {},
     "output_type": "execute_result"
    }
   ],
   "source": [
    "alphabet_die = Die(alphabets)\n",
    "for key in freq_dict:\n",
    "    alphabet_die.change_weight(key, freq_dict[key])\n",
    "alphabet_die.df[:5]"
   ]
  },
  {
   "cell_type": "code",
   "execution_count": 18,
   "metadata": {},
   "outputs": [],
   "source": [
    "alphabet_die.roll_die()\n",
    "fair_game = Game([alphabet_die, alphabet_die, alphabet_die, alphabet_die, alphabet_die])\n",
    "game_num = 1000\n",
    "fair_game.play_game(game_num)\n",
    "\n",
    "analyzer = Analyzer(fair_game)"
   ]
  },
  {
   "cell_type": "code",
   "execution_count": 19,
   "metadata": {},
   "outputs": [
    {
     "data": {
      "text/plain": [
       "0"
      ]
     },
     "execution_count": 19,
     "metadata": {},
     "output_type": "execute_result"
    }
   ],
   "source": [
    "analyzer.jackpot()"
   ]
  },
  {
   "cell_type": "code",
   "execution_count": 20,
   "metadata": {},
   "outputs": [
    {
     "data": {
      "text/html": [
       "<div>\n",
       "<style scoped>\n",
       "    .dataframe tbody tr th:only-of-type {\n",
       "        vertical-align: middle;\n",
       "    }\n",
       "\n",
       "    .dataframe tbody tr th {\n",
       "        vertical-align: top;\n",
       "    }\n",
       "\n",
       "    .dataframe thead th {\n",
       "        text-align: right;\n",
       "    }\n",
       "</style>\n",
       "<table border=\"1\" class=\"dataframe\">\n",
       "  <thead>\n",
       "    <tr style=\"text-align: right;\">\n",
       "      <th></th>\n",
       "      <th>Combination</th>\n",
       "      <th>Occurrence</th>\n",
       "    </tr>\n",
       "  </thead>\n",
       "  <tbody>\n",
       "    <tr>\n",
       "      <th>0</th>\n",
       "      <td>[A, C, E, O, S]</td>\n",
       "      <td>3.0</td>\n",
       "    </tr>\n",
       "    <tr>\n",
       "      <th>1</th>\n",
       "      <td>[A, A, E, N, T]</td>\n",
       "      <td>2.0</td>\n",
       "    </tr>\n",
       "    <tr>\n",
       "      <th>2</th>\n",
       "      <td>[A, I, N, R, T]</td>\n",
       "      <td>2.0</td>\n",
       "    </tr>\n",
       "    <tr>\n",
       "      <th>3</th>\n",
       "      <td>[A, A, A, I, O]</td>\n",
       "      <td>2.0</td>\n",
       "    </tr>\n",
       "    <tr>\n",
       "      <th>4</th>\n",
       "      <td>[E, E, N, T, U]</td>\n",
       "      <td>2.0</td>\n",
       "    </tr>\n",
       "    <tr>\n",
       "      <th>...</th>\n",
       "      <td>...</td>\n",
       "      <td>...</td>\n",
       "    </tr>\n",
       "    <tr>\n",
       "      <th>966</th>\n",
       "      <td>[A, L, N, R, T]</td>\n",
       "      <td>1.0</td>\n",
       "    </tr>\n",
       "    <tr>\n",
       "      <th>967</th>\n",
       "      <td>[A, E, L, R, T]</td>\n",
       "      <td>1.0</td>\n",
       "    </tr>\n",
       "    <tr>\n",
       "      <th>968</th>\n",
       "      <td>[E, E, M, T, V]</td>\n",
       "      <td>1.0</td>\n",
       "    </tr>\n",
       "    <tr>\n",
       "      <th>969</th>\n",
       "      <td>[C, E, I, M, O]</td>\n",
       "      <td>1.0</td>\n",
       "    </tr>\n",
       "    <tr>\n",
       "      <th>970</th>\n",
       "      <td>[A, C, J, O, T]</td>\n",
       "      <td>1.0</td>\n",
       "    </tr>\n",
       "  </tbody>\n",
       "</table>\n",
       "<p>971 rows × 2 columns</p>\n",
       "</div>"
      ],
      "text/plain": [
       "         Combination  Occurrence\n",
       "0    [A, C, E, O, S]         3.0\n",
       "1    [A, A, E, N, T]         2.0\n",
       "2    [A, I, N, R, T]         2.0\n",
       "3    [A, A, A, I, O]         2.0\n",
       "4    [E, E, N, T, U]         2.0\n",
       "..               ...         ...\n",
       "966  [A, L, N, R, T]         1.0\n",
       "967  [A, E, L, R, T]         1.0\n",
       "968  [E, E, M, T, V]         1.0\n",
       "969  [C, E, I, M, O]         1.0\n",
       "970  [A, C, J, O, T]         1.0\n",
       "\n",
       "[971 rows x 2 columns]"
      ]
     },
     "execution_count": 20,
     "metadata": {},
     "output_type": "execute_result"
    }
   ],
   "source": [
    "alpha_combo = analyzer.combo()\n",
    "alpha_combo"
   ]
  },
  {
   "cell_type": "code",
   "execution_count": 21,
   "metadata": {},
   "outputs": [
    {
     "data": {
      "text/plain": [
       "0     [A, C, E, O, S]\n",
       "1     [A, A, E, N, T]\n",
       "2     [A, I, N, R, T]\n",
       "3     [A, A, A, I, O]\n",
       "4     [E, E, N, T, U]\n",
       "5     [A, I, S, T, U]\n",
       "6     [A, A, M, N, R]\n",
       "7     [E, G, I, I, L]\n",
       "8     [E, L, R, S, T]\n",
       "9     [A, C, E, E, O]\n",
       "10    [A, A, E, E, I]\n",
       "11    [E, H, I, L, O]\n",
       "12    [E, I, L, M, S]\n",
       "13    [A, A, C, C, G]\n",
       "14    [L, R, T, T, U]\n",
       "15    [E, N, S, T, V]\n",
       "16    [A, E, I, M, R]\n",
       "17    [A, O, R, S, T]\n",
       "18    [C, E, K, O, T]\n",
       "19    [E, H, P, T, U]\n",
       "20    [A, I, N, N, R]\n",
       "21    [A, E, N, O, U]\n",
       "22    [F, I, N, O, T]\n",
       "23    [A, E, E, M, O]\n",
       "24    [A, H, I, N, T]\n",
       "25    [E, E, M, N, R]\n",
       "26    [C, E, R, T, Y]\n",
       "27    [C, E, M, N, R]\n",
       "28    [A, C, G, I, R]\n",
       "29    [D, F, F, R, R]\n",
       "Name: Combination, dtype: object"
      ]
     },
     "execution_count": 21,
     "metadata": {},
     "output_type": "execute_result"
    }
   ],
   "source": [
    "eyeballs = alpha_combo['Combination'][:30]\n",
    "eyeballs"
   ]
  },
  {
   "cell_type": "markdown",
   "metadata": {},
   "source": [
    "### Result\n",
    ": Apparantely, none of the combinations from my 30 samples look like actual words."
   ]
  },
  {
   "cell_type": "markdown",
   "metadata": {},
   "source": [
    "# Directory Listing\n",
    "A code block that executes the following bash command:\n",
    "\n",
    "!ls -lRF -o\n"
   ]
  },
  {
   "cell_type": "code",
   "execution_count": 22,
   "metadata": {},
   "outputs": [
    {
     "name": "stdout",
     "output_type": "stream",
     "text": [
      ".:\n",
      "total 96\n",
      "-rw-r--r-- 1 npm5ct 53413 Jul 15 10:27 final-project-submission.ipynb\n",
      "-rw-r--r-- 1 npm5ct 11357 Jul 14 10:43 LICENSE\n",
      "-rw-r--r-- 1 npm5ct  3518 Jul 14 21:31 README.md\n",
      "-rw-r--r-- 1 npm5ct   281 Jul 14 11:09 setup.py\n",
      "drwxr-sr-x 5 npm5ct  3584 Jul 15 10:22 simulator/\n",
      "drwxr-sr-x 2 npm5ct  2048 Jul 14 21:28 simulator.egg-info/\n",
      "\n",
      "./simulator:\n",
      "total 96\n",
      "-rw-r--r-- 1 npm5ct     0 Jul 14 10:44 __init__.py\n",
      "-rw-r--r-- 1 npm5ct   234 Jul 14 17:44 letter-freqs.csv\n",
      "-rw-r--r-- 1 npm5ct 61179 Jul 15 10:22 montecarlo_demo.ipynb\n",
      "-rw-r--r-- 1 npm5ct 11365 Jul 15 10:18 montecarlo.py\n",
      "drwxr-sr-x 2 npm5ct   512 Jul 15 10:19 __pycache__/\n",
      "drwxr-sr-x 3 npm5ct  2048 Jul 14 11:05 test/\n",
      "\n",
      "./simulator/__pycache__:\n",
      "total 12\n",
      "-rw-r--r-- 1 npm5ct 8178 Jul 15 10:19 montecarlo.cpython-38.pyc\n",
      "\n",
      "./simulator/test:\n",
      "total 20\n",
      "-rw-r--r-- 1 npm5ct    0 Jul 14 11:04 __init__.py\n",
      "-rw-r--r-- 1 npm5ct  831 Jul 14 11:03 montecarlo_results.txt\n",
      "-rw-r--r-- 1 npm5ct 4126 Jul 14 10:46 montecarlo_tests.py\n",
      "\n",
      "./simulator.egg-info:\n",
      "total 16\n",
      "-rw-r--r-- 1 npm5ct   1 Jul 14 21:28 dependency_links.txt\n",
      "-rw-r--r-- 1 npm5ct 229 Jul 14 21:28 PKG-INFO\n",
      "-rw-r--r-- 1 npm5ct 196 Jul 14 21:28 SOURCES.txt\n",
      "-rw-r--r-- 1 npm5ct  10 Jul 14 21:28 top_level.txt\n"
     ]
    }
   ],
   "source": [
    "!ls -lRF -o"
   ]
  },
  {
   "cell_type": "markdown",
   "metadata": {},
   "source": [
    "# Installation Output Listing\n",
    "A code block that executes the code to install your your package and outputs a successful installation."
   ]
  },
  {
   "cell_type": "code",
   "execution_count": 23,
   "metadata": {},
   "outputs": [
    {
     "name": "stdout",
     "output_type": "stream",
     "text": [
      "Defaulting to user installation because normal site-packages is not writeable\n",
      "Obtaining file:///sfs/qumulo/qhome/npm5ct/documents/MSDS/DS5100/MonteCarloSimulator\n",
      "Installing collected packages: simulator\n",
      "  Attempting uninstall: simulator\n",
      "    Found existing installation: simulator 0.1\n",
      "    Uninstalling simulator-0.1:\n",
      "      Successfully uninstalled simulator-0.1\n",
      "  Running setup.py develop for simulator\n",
      "Successfully installed simulator\n"
     ]
    }
   ],
   "source": [
    "!pip install -e."
   ]
  },
  {
   "cell_type": "code",
   "execution_count": null,
   "metadata": {},
   "outputs": [],
   "source": []
  }
 ],
 "metadata": {
  "kernelspec": {
   "display_name": "Python 3.8",
   "language": "python",
   "name": "python-3.8"
  },
  "language_info": {
   "codemirror_mode": {
    "name": "ipython",
    "version": 3
   },
   "file_extension": ".py",
   "mimetype": "text/x-python",
   "name": "python",
   "nbconvert_exporter": "python",
   "pygments_lexer": "ipython3",
   "version": "3.8.8"
  }
 },
 "nbformat": 4,
 "nbformat_minor": 4
}
